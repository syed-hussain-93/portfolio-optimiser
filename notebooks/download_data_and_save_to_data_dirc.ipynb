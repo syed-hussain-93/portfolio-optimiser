{
 "cells": [
  {
   "cell_type": "markdown",
   "id": "b6c01410",
   "metadata": {},
   "source": [
    "We will download financial data for all stocks available on the Dow Jones Index and store to a database\n"
   ]
  },
  {
   "cell_type": "code",
   "execution_count": 3,
   "id": "f04e11ed",
   "metadata": {},
   "outputs": [
    {
     "name": "stdout",
     "output_type": "stream",
     "text": [
      "/Users/syed/Desktop/ideal-stock-portfolio/src\n"
     ]
    }
   ],
   "source": [
    "cd ../src/"
   ]
  },
  {
   "cell_type": "code",
   "execution_count": 4,
   "id": "b2bffdbf",
   "metadata": {},
   "outputs": [],
   "source": [
    "import pandas as pd\n",
    "import yfinance as yf\n",
    "\n",
    "from database_setup_class import Database\n",
    "%load_ext autoreload\n",
    "%autoreload 2"
   ]
  },
  {
   "cell_type": "code",
   "execution_count": 5,
   "id": "b5eb64e2",
   "metadata": {},
   "outputs": [],
   "source": [
    "def get_ticker_symbols(index):\n",
    "    # Hard code to get the list of ticker symbols for a few indices\n",
    "    # Indices will be using\n",
    "    # DowJones (DJIA), NIFTY50\n",
    "\n",
    "    if index == \"DJIA\":\n",
    "        ticker_list = pd.read_html(\n",
    "            f\"https://en.wikipedia.org/wiki/Dow_Jones_Industrial_Average\"\n",
    "        )[1][\"Symbol\"].to_list()\n",
    "\n",
    "    elif index == \"NIFTY50\":\n",
    "        ticker_list = pd.read_html(\"https://en.wikipedia.org/wiki/NIFTY_50\")[1][\n",
    "            \"Symbol\"\n",
    "        ].to_list()\n",
    "        ticker_list = [f\"{ticker}.NS\" for ticker in ticker_list]\n",
    "\n",
    "    return ticker_list"
   ]
  },
  {
   "cell_type": "code",
   "execution_count": 6,
   "id": "b513415b",
   "metadata": {},
   "outputs": [],
   "source": [
    "date_range = ['2010-01-01', '2022-01-01']"
   ]
  },
  {
   "cell_type": "code",
   "execution_count": 7,
   "id": "0a4f94ea",
   "metadata": {},
   "outputs": [],
   "source": [
    "ticker_list = get_ticker_symbols('DJIA') "
   ]
  },
  {
   "cell_type": "code",
   "execution_count": 8,
   "id": "9a75746d",
   "metadata": {},
   "outputs": [],
   "source": [
    "djia = Database('DJIA')\n"
   ]
  },
  {
   "cell_type": "code",
   "execution_count": 9,
   "id": "ba73b005",
   "metadata": {},
   "outputs": [
    {
     "name": "stdout",
     "output_type": "stream",
     "text": [
      "[*********************100%***********************]  1 of 1 completed\n",
      "Sucessfully added MMM to database\n",
      "[*********************100%***********************]  1 of 1 completed\n",
      "Sucessfully added AXP to database\n",
      "[*********************100%***********************]  1 of 1 completed\n",
      "Sucessfully added AMGN to database\n",
      "[*********************100%***********************]  1 of 1 completed\n",
      "Sucessfully added AAPL to database\n",
      "[*********************100%***********************]  1 of 1 completed\n",
      "Sucessfully added BA to database\n",
      "[*********************100%***********************]  1 of 1 completed\n",
      "Sucessfully added CAT to database\n",
      "[*********************100%***********************]  1 of 1 completed\n",
      "Sucessfully added CVX to database\n",
      "[*********************100%***********************]  1 of 1 completed\n",
      "Sucessfully added CSCO to database\n",
      "[*********************100%***********************]  1 of 1 completed\n",
      "Sucessfully added KO to database\n",
      "[*********************100%***********************]  1 of 1 completed\n",
      "Sucessfully added DIS to database\n",
      "[*********************100%***********************]  1 of 1 completed\n",
      "Sucessfully added DOW to database\n",
      "[*********************100%***********************]  1 of 1 completed\n",
      "Sucessfully added GS to database\n",
      "[*********************100%***********************]  1 of 1 completed\n",
      "Sucessfully added HD to database\n",
      "[*********************100%***********************]  1 of 1 completed\n",
      "Sucessfully added HON to database\n",
      "[*********************100%***********************]  1 of 1 completed\n",
      "Sucessfully added IBM to database\n",
      "[*********************100%***********************]  1 of 1 completed\n",
      "Sucessfully added INTC to database\n",
      "[*********************100%***********************]  1 of 1 completed\n",
      "Sucessfully added JNJ to database\n",
      "[*********************100%***********************]  1 of 1 completed\n",
      "Sucessfully added JPM to database\n",
      "[*********************100%***********************]  1 of 1 completed\n",
      "Sucessfully added MCD to database\n",
      "[*********************100%***********************]  1 of 1 completed\n",
      "Sucessfully added MRK to database\n",
      "[*********************100%***********************]  1 of 1 completed\n",
      "Sucessfully added MSFT to database\n",
      "[*********************100%***********************]  1 of 1 completed\n",
      "Sucessfully added NKE to database\n",
      "[*********************100%***********************]  1 of 1 completed\n",
      "Sucessfully added PG to database\n",
      "[*********************100%***********************]  1 of 1 completed\n",
      "Sucessfully added CRM to database\n",
      "[*********************100%***********************]  1 of 1 completed\n",
      "Sucessfully added TRV to database\n",
      "[*********************100%***********************]  1 of 1 completed\n",
      "Sucessfully added UNH to database\n",
      "[*********************100%***********************]  1 of 1 completed\n",
      "Sucessfully added VZ to database\n",
      "[*********************100%***********************]  1 of 1 completed\n",
      "Sucessfully added V to database\n",
      "[*********************100%***********************]  1 of 1 completed\n",
      "Sucessfully added WBA to database\n",
      "[*********************100%***********************]  1 of 1 completed\n",
      "Sucessfully added WMT to database\n"
     ]
    }
   ],
   "source": [
    "djia.add_stock_to_database(\n",
    "    ticker_list, start= date_range[0], end=date_range[1]\n",
    ")"
   ]
  },
  {
   "cell_type": "code",
   "execution_count": 10,
   "id": "57beecb6",
   "metadata": {},
   "outputs": [
    {
     "data": {
      "text/plain": [
       "'2021-12-31'"
      ]
     },
     "execution_count": 10,
     "metadata": {},
     "output_type": "execute_result"
    }
   ],
   "source": [
    "djia._get_min_max_date('MAX')"
   ]
  },
  {
   "cell_type": "code",
   "execution_count": 11,
   "id": "31036ab9",
   "metadata": {},
   "outputs": [
    {
     "name": "stdout",
     "output_type": "stream",
     "text": [
      "[*********************100%***********************]  1 of 1 completed\n",
      "[*********************100%***********************]  1 of 1 completed\n",
      "[*********************100%***********************]  1 of 1 completed\n",
      "[*********************100%***********************]  1 of 1 completed\n",
      "[*********************100%***********************]  1 of 1 completed\n",
      "[*********************100%***********************]  1 of 1 completed\n",
      "[*********************100%***********************]  1 of 1 completed\n",
      "[*********************100%***********************]  1 of 1 completed\n",
      "[*********************100%***********************]  1 of 1 completed\n",
      "[*********************100%***********************]  1 of 1 completed\n",
      "[*********************100%***********************]  1 of 1 completed\n",
      "[*********************100%***********************]  1 of 1 completed\n",
      "[*********************100%***********************]  1 of 1 completed\n",
      "[*********************100%***********************]  1 of 1 completed\n",
      "[*********************100%***********************]  1 of 1 completed\n",
      "[*********************100%***********************]  1 of 1 completed\n",
      "[*********************100%***********************]  1 of 1 completed\n",
      "[*********************100%***********************]  1 of 1 completed\n",
      "[*********************100%***********************]  1 of 1 completed\n",
      "[*********************100%***********************]  1 of 1 completed\n",
      "[*********************100%***********************]  1 of 1 completed\n",
      "[*********************100%***********************]  1 of 1 completed\n",
      "[*********************100%***********************]  1 of 1 completed\n",
      "[*********************100%***********************]  1 of 1 completed\n",
      "[*********************100%***********************]  1 of 1 completed\n",
      "[*********************100%***********************]  1 of 1 completed\n",
      "[*********************100%***********************]  1 of 1 completed\n",
      "[*********************100%***********************]  1 of 1 completed\n",
      "[*********************100%***********************]  1 of 1 completed\n",
      "[*********************100%***********************]  1 of 1 completed\n",
      "DJIA successfully updated\n"
     ]
    }
   ],
   "source": [
    "djia.update_database()"
   ]
  },
  {
   "cell_type": "code",
   "execution_count": 12,
   "id": "23054517",
   "metadata": {},
   "outputs": [
    {
     "data": {
      "text/plain": [
       "'2022-01-24'"
      ]
     },
     "execution_count": 12,
     "metadata": {},
     "output_type": "execute_result"
    }
   ],
   "source": [
    "djia._get_min_max_date('MAX')"
   ]
  },
  {
   "cell_type": "code",
   "execution_count": null,
   "id": "c6fbdf70",
   "metadata": {},
   "outputs": [],
   "source": []
  }
 ],
 "metadata": {
  "kernelspec": {
   "display_name": "Python 3 (ipykernel)",
   "language": "python",
   "name": "python3"
  },
  "language_info": {
   "codemirror_mode": {
    "name": "ipython",
    "version": 3
   },
   "file_extension": ".py",
   "mimetype": "text/x-python",
   "name": "python",
   "nbconvert_exporter": "python",
   "pygments_lexer": "ipython3",
   "version": "3.8.5"
  }
 },
 "nbformat": 4,
 "nbformat_minor": 5
}
