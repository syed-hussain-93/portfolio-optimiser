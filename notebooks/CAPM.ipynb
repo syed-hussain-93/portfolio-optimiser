{
 "cells": [
  {
   "cell_type": "code",
   "execution_count": 1,
   "id": "c1230bb0",
   "metadata": {},
   "outputs": [
    {
     "name": "stdout",
     "output_type": "stream",
     "text": [
      "/Users/syed/Desktop/ideal-stock-portfolio/src\n"
     ]
    }
   ],
   "source": [
    "cd ../src/"
   ]
  },
  {
   "cell_type": "code",
   "execution_count": 5,
   "id": "ddec0209",
   "metadata": {},
   "outputs": [
    {
     "name": "stdout",
     "output_type": "stream",
     "text": [
      "The autoreload extension is already loaded. To reload it, use:\n",
      "  %reload_ext autoreload\n"
     ]
    }
   ],
   "source": [
    "import sqlalchemy\n",
    "import pandas as pd\n",
    "import numpy as np\n",
    "import yfinance as yf\n",
    "import pandas_datareader as reader\n",
    "import os\n",
    "\n",
    "from database_setup_class import Database\n",
    "from portfolio_class import Portfolio\n",
    "from assets_class import Asset\n",
    "\n",
    "import statsmodels.api as sm\n",
    "%load_ext autoreload\n",
    "%autoreload 2"
   ]
  },
  {
   "cell_type": "code",
   "execution_count": null,
   "id": "bbdd3816",
   "metadata": {},
   "outputs": [],
   "source": [
    "def yf_retrieve_data(ticker_list,date_range):\n",
    "    data_frames = []\n",
    "    for ticker in ticker_list:\n",
    "        data = yf.download(ticker, start=date_range[0], end=date_range[1])\n",
    "        data_frames.append(data)\n",
    "    return data_frames"
   ]
  },
  {
   "cell_type": "code",
   "execution_count": 6,
   "id": "e02716e7",
   "metadata": {},
   "outputs": [
    {
     "name": "stdout",
     "output_type": "stream",
     "text": [
      "[*********************100%***********************]  1 of 1 completed\n",
      "[*********************100%***********************]  1 of 1 completed\n",
      "[*********************100%***********************]  1 of 1 completed\n",
      "[*********************100%***********************]  1 of 1 completed\n",
      "[*********************100%***********************]  1 of 1 completed\n",
      "[*********************100%***********************]  1 of 1 completed\n",
      "[*********************100%***********************]  1 of 1 completed\n",
      "[*********************100%***********************]  1 of 1 completed\n",
      "[*********************100%***********************]  1 of 1 completed\n",
      "[*********************100%***********************]  1 of 1 completed\n",
      "[*********************100%***********************]  1 of 1 completed\n",
      "[*********************100%***********************]  1 of 1 completed\n",
      "[*********************100%***********************]  1 of 1 completed\n",
      "[*********************100%***********************]  1 of 1 completed\n",
      "[*********************100%***********************]  1 of 1 completed\n",
      "[*********************100%***********************]  1 of 1 completed\n",
      "[*********************100%***********************]  1 of 1 completed\n",
      "[*********************100%***********************]  1 of 1 completed\n",
      "[*********************100%***********************]  1 of 1 completed\n",
      "[*********************100%***********************]  1 of 1 completed\n",
      "[*********************100%***********************]  1 of 1 completed\n",
      "[*********************100%***********************]  1 of 1 completed\n",
      "[*********************100%***********************]  1 of 1 completed\n",
      "[*********************100%***********************]  1 of 1 completed\n",
      "[*********************100%***********************]  1 of 1 completed\n",
      "[*********************100%***********************]  1 of 1 completed\n",
      "[*********************100%***********************]  1 of 1 completed\n",
      "[*********************100%***********************]  1 of 1 completed\n",
      "[*********************100%***********************]  1 of 1 completed\n",
      "[*********************100%***********************]  1 of 1 completed\n",
      "[*********************100%***********************]  1 of 1 completed\n",
      "DJIA successfully updated\n"
     ]
    }
   ],
   "source": [
    "database_name = 'DJIA'\n",
    "djia = Database(database_name)\n",
    "\n",
    "\n",
    "if not os.path.exists(f'../data/{database_name}.db'):\n",
    "    date_range = ['2010-01-01', '2022-01-01']\n",
    "    ticker_list = get_ticker_symbols('DJIA') + ['^GSPC']\n",
    "    # Create database instance\n",
    "    djia = Database('DJIA')\n",
    "    djia.add_stock_to_database(ticker_list, start= date_range[0], end=date_range[1])\n",
    "    djia.update_database()\n",
    "    \n",
    "else:\n",
    "    djia.update_database()\n",
    "    ticker_list = djia.get_ticker_list()"
   ]
  },
  {
   "cell_type": "code",
   "execution_count": null,
   "id": "843ab0bc",
   "metadata": {},
   "outputs": [],
   "source": []
  },
  {
   "cell_type": "code",
   "execution_count": null,
   "id": "218133ad",
   "metadata": {},
   "outputs": [],
   "source": [
    "market_data = data[0].reset_index()\n",
    "market_data = market_data['Close'].pct_change().apply(lambda x: np.log(1+x)).dropna()"
   ]
  },
  {
   "cell_type": "code",
   "execution_count": null,
   "id": "7fb838c9",
   "metadata": {},
   "outputs": [],
   "source": [
    "market_data.columns = ['^GSPC']\n",
    "market_data"
   ]
  },
  {
   "cell_type": "code",
   "execution_count": null,
   "id": "fd29d3d1",
   "metadata": {},
   "outputs": [],
   "source": [
    "dow_jones = Database('DJIA')\n",
    "ticker_symbols = dow_jones.get_ticker_symbols()\n",
    "stock_data = dow_jones.get_dataframe(date_range = date_range)"
   ]
  },
  {
   "cell_type": "code",
   "execution_count": null,
   "id": "95c50e8c",
   "metadata": {},
   "outputs": [],
   "source": [
    "portfolio = Portfolio([Asset({\"name\": ticker, \"data\": stock_data[i] }) for i,ticker in enumerate(ticker_symbols[:4]) ])"
   ]
  },
  {
   "cell_type": "code",
   "execution_count": null,
   "id": "7856728c",
   "metadata": {},
   "outputs": [],
   "source": [
    "asset_frame = portfolio.assets_daily_returns"
   ]
  },
  {
   "cell_type": "code",
   "execution_count": null,
   "id": "d7ce4f70",
   "metadata": {},
   "outputs": [],
   "source": []
  },
  {
   "cell_type": "markdown",
   "id": "2c4c4ec2",
   "metadata": {},
   "source": [
    "# Regression Model"
   ]
  },
  {
   "cell_type": "code",
   "execution_count": null,
   "id": "8f7b868e",
   "metadata": {},
   "outputs": [],
   "source": [
    "beta_assets = []\n",
    "for col in portfolio.assets_daily_returns.iloc[:,1:]:\n",
    "    covariance = portfolio.assets_daily_returns[col].cov(market_data)\n",
    "    variance_market = market_data.var()\n",
    "    beta_assets.append(covariance/variance_market)"
   ]
  },
  {
   "cell_type": "code",
   "execution_count": null,
   "id": "536403fc",
   "metadata": {},
   "outputs": [],
   "source": [
    "beta_assets"
   ]
  },
  {
   "cell_type": "code",
   "execution_count": null,
   "id": "2861d368",
   "metadata": {},
   "outputs": [],
   "source": [
    "X = market_data\n",
    "\n",
    "stats_results = []\n",
    "for col in portfolio.assets_daily_returns.iloc[:,1:]:\n",
    "    \n",
    "    y = portfolio.assets_daily_returns.iloc[:,1:][col]\n",
    "    X_sm = sm.add_constant(X)\n",
    "    model = sm.OLS(y, X_sm)\n",
    "    results = model.fit()\n",
    "    stats_results.append(results)\n",
    "\n",
    "betas = [result.params['Close'] for result in stats_results]\n",
    "betas"
   ]
  },
  {
   "cell_type": "markdown",
   "id": "0588db2a",
   "metadata": {},
   "source": [
    "# Risk free rate"
   ]
  },
  {
   "cell_type": "code",
   "execution_count": null,
   "id": "d000b5e6",
   "metadata": {},
   "outputs": [],
   "source": [
    "from datetime import datetime\n",
    "# 10 YEAR RATE FOR Treasury Constant Maturity Rate\n",
    "\n",
    "T_rate = pd.read_csv('../data/DGS10.csv')\n",
    "def get_treasury_rate(T_rate, asset_date_list):\n",
    "    count = 0\n",
    "    rate = []\n",
    "    for i in T_rate['DGS10']:\n",
    "        if i =='.':\n",
    "            da.append(T_rate['DATE'][count])\n",
    "            T_rate['DGS10'][count] = T_rate['DGS10'][count-1]        \n",
    "        else:\n",
    "            T_rate['DGS10'][count] = float(T_rate['DGS10'][count])\n",
    "\n",
    "        if T_rate['DATE'][count] in asset_date_list:\n",
    "            rate.append(T_rate['DGS10'][count]/100)\n",
    "        count+=1\n",
    "        \n",
    "    return rate\n",
    "        \n",
    "asset_date_list = portfolio.assets_daily_returns['Date'].tolist()\n",
    "ten_yr_rate = get_treasury_rate(T_rate, asset_date_list)"
   ]
  },
  {
   "cell_type": "code",
   "execution_count": null,
   "id": "ad4f9114",
   "metadata": {},
   "outputs": [],
   "source": [
    "asset_frame[\"10_year_rate\"] = ten_yr_rate\n"
   ]
  },
  {
   "cell_type": "code",
   "execution_count": null,
   "id": "51fb3a10",
   "metadata": {},
   "outputs": [],
   "source": [
    "rf = reader.DataReader('F-F_Research_Data_Factors_daily', 'famafrench', date_range[0], date_range[1])[0]"
   ]
  },
  {
   "cell_type": "code",
   "execution_count": null,
   "id": "a0d2531e",
   "metadata": {},
   "outputs": [],
   "source": [
    "rf = rf.reset_index()\n",
    "rf"
   ]
  },
  {
   "cell_type": "code",
   "execution_count": null,
   "id": "4c2c293c",
   "metadata": {},
   "outputs": [],
   "source": [
    "rr = [r.strftime('%Y-%m-%d') for r in rf['Date']]\n",
    "rr"
   ]
  },
  {
   "cell_type": "code",
   "execution_count": null,
   "id": "b1f9131e",
   "metadata": {},
   "outputs": [],
   "source": [
    "\n",
    "from datetime import datetime\n",
    "d = []\n",
    "for date in asset_frame['Date'].values:\n",
    "    if date not in rr :\n",
    "        d.append(date)\n",
    "        "
   ]
  },
  {
   "cell_type": "code",
   "execution_count": null,
   "id": "a5a356ba",
   "metadata": {},
   "outputs": [],
   "source": [
    "rff = reader.DataReader('F-F_Research_Data_Factors_daily', 'famafrench', '2021-12-01', '2022-01-18')[0]"
   ]
  },
  {
   "cell_type": "code",
   "execution_count": null,
   "id": "a6d941b4",
   "metadata": {},
   "outputs": [],
   "source": [
    "rff"
   ]
  },
  {
   "cell_type": "code",
   "execution_count": null,
   "id": "cbc4588e",
   "metadata": {},
   "outputs": [],
   "source": []
  }
 ],
 "metadata": {
  "kernelspec": {
   "display_name": "Python 3 (ipykernel)",
   "language": "python",
   "name": "python3"
  },
  "language_info": {
   "codemirror_mode": {
    "name": "ipython",
    "version": 3
   },
   "file_extension": ".py",
   "mimetype": "text/x-python",
   "name": "python",
   "nbconvert_exporter": "python",
   "pygments_lexer": "ipython3",
   "version": "3.8.5"
  }
 },
 "nbformat": 4,
 "nbformat_minor": 5
}
