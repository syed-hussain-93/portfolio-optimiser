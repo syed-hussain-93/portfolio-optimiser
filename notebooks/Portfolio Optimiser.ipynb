{
 "cells": [
  {
   "cell_type": "markdown",
   "id": "9518a7dd",
   "metadata": {},
   "source": [
    "# Porftolio Optimiser\n",
    "\n",
    "## Description\n",
    "This program attempts to optimise a users portfolio using the Efficient Frontier. \n",
    "\n",
    "## Goal\n",
    "Create portfolio of assets for which investment has maximum return for given risk level (ideally minimum) OR create portfolio that offers lowest risk for given expected return.\n",
    "\n",
    "## Theory\n",
    "Modern portfolio theory (MPT) is a model to creating a portfolio that aims to maximise the return for a given amount of risk. \n",
    "\n",
    "MPT encourages diversification of assets. Consider a portfolio of assets, {A, B, C} where the three assets are 'diverse'. If the three assets have little to zero correlation then we can have a portfolio with low variance on returns. \n",
    "\n",
    "Efficient Frontier is a graph of 'Expected returns' versues 'Volatility'. Points inside graph show set of optimal portfolios of expected returns for given risk (measured as volatility) or risk given expected returns. Points outside line are sub-optimal. \n",
    "\n",
    "### Assumptions\n",
    "1. Asset Returns are (Jointly) Normally Distributed Random Variables\n",
    "2. Correlations between Assets are Fixed and Constant Forever\n",
    "3. All Investors Aim to Maximize Economic Utility\n",
    "4. All Investors are Rational and Risk Averse\n",
    "5. All Investors have Access to the Same Information at the Same Time\n",
    "6. All Investors have Access to the Same Information at the Same Time\n",
    "7. There are no Taxes or Transaction Costs\n",
    "8. Investors are Price Takers\n",
    "9. Every Investor has a Credit Limit\n",
    "10. All Securities can be Divided into Parcels of Any Size\n",
    "\n",
    "### Basics of the model\n",
    "\n",
    "\n",
    "\n",
    "### 1. Portfolio Expected Return\n",
    "\n",
    "Each asset in portfolio is weighted i.e. the proportion the asset makes up the portfolio. To calculate expected return of the porfolio we multiply weights of each asset by the expected returns of each asset, and sum.\n",
    "\n",
    "\n",
    "### 2. Portfolio Standard deviation (volatility)\n",
    "\n",
    "Calculate the annual covariance matrix and take the inner product with the weights. \n",
    "\n",
    "### 3. Sharpe Ratio\n",
    "\n",
    "Sharpe ratio measures the return of an investment in relation to the risk-free rate and its risk profile.\n",
    "\n",
    "In general, higher value of Sharpe ratio the better and lucractive the investement. \n",
    "\n",
    "### 4. Efficient Frontier\n",
    "\n",
    "Plot of 'Expected return' vs 'Volatility'\n",
    "\n",
    "\n"
   ]
  },
  {
   "cell_type": "markdown",
   "id": "44c59122",
   "metadata": {},
   "source": [
    "# Import Packages"
   ]
  },
  {
   "cell_type": "code",
   "execution_count": 1,
   "id": "cb3d028a",
   "metadata": {},
   "outputs": [
    {
     "name": "stdout",
     "output_type": "stream",
     "text": [
      "/Users/syed/Desktop/ideal-stock-portfolio/src\n"
     ]
    }
   ],
   "source": [
    "cd ../src"
   ]
  },
  {
   "cell_type": "code",
   "execution_count": 2,
   "id": "037b5897",
   "metadata": {},
   "outputs": [],
   "source": [
    "import numpy as np\n",
    "import pandas as pd\n",
    "import yfinance as yf\n",
    "\n",
    "import os.path\n",
    "\n",
    "from assets_class import Asset\n",
    "from portfolio_class import Portfolio\n",
    "from database_setup_class import Database, get_ticker_symbols\n",
    "\n",
    "from datetime import datetime\n",
    "\n",
    "%load_ext autoreload\n",
    "%autoreload 2"
   ]
  },
  {
   "cell_type": "markdown",
   "id": "8272bf8e",
   "metadata": {},
   "source": [
    "\n",
    "# Download/Read to/from database"
   ]
  },
  {
   "cell_type": "code",
   "execution_count": 3,
   "id": "cbe7126a",
   "metadata": {},
   "outputs": [
    {
     "name": "stdout",
     "output_type": "stream",
     "text": [
      "[*********************100%***********************]  1 of 1 completed\n",
      "Sucessfully added MMM to database\n",
      "[*********************100%***********************]  1 of 1 completed\n",
      "Sucessfully added AXP to database\n",
      "[*********************100%***********************]  1 of 1 completed\n",
      "Sucessfully added AMGN to database\n",
      "[*********************100%***********************]  1 of 1 completed\n",
      "Sucessfully added AAPL to database\n",
      "[*********************100%***********************]  1 of 1 completed\n",
      "Sucessfully added BA to database\n",
      "[*********************100%***********************]  1 of 1 completed\n",
      "Sucessfully added CAT to database\n",
      "[*********************100%***********************]  1 of 1 completed\n",
      "Sucessfully added CVX to database\n",
      "[*********************100%***********************]  1 of 1 completed\n",
      "Sucessfully added CSCO to database\n",
      "[*********************100%***********************]  1 of 1 completed\n",
      "Sucessfully added KO to database\n",
      "[*********************100%***********************]  1 of 1 completed\n",
      "Sucessfully added DIS to database\n",
      "[*********************100%***********************]  1 of 1 completed\n",
      "Sucessfully added DOW to database\n",
      "[*********************100%***********************]  1 of 1 completed\n",
      "Sucessfully added GS to database\n",
      "[*********************100%***********************]  1 of 1 completed\n",
      "Sucessfully added HD to database\n",
      "[*********************100%***********************]  1 of 1 completed\n",
      "Sucessfully added HON to database\n",
      "[*********************100%***********************]  1 of 1 completed\n",
      "Sucessfully added IBM to database\n",
      "[*********************100%***********************]  1 of 1 completed\n",
      "Sucessfully added INTC to database\n",
      "[*********************100%***********************]  1 of 1 completed\n",
      "Sucessfully added JNJ to database\n",
      "[*********************100%***********************]  1 of 1 completed\n",
      "Sucessfully added JPM to database\n",
      "[*********************100%***********************]  1 of 1 completed\n",
      "Sucessfully added MCD to database\n",
      "[*********************100%***********************]  1 of 1 completed\n",
      "Sucessfully added MRK to database\n",
      "[*********************100%***********************]  1 of 1 completed\n",
      "Sucessfully added MSFT to database\n",
      "[*********************100%***********************]  1 of 1 completed\n",
      "Sucessfully added NKE to database\n",
      "[*********************100%***********************]  1 of 1 completed\n",
      "Sucessfully added PG to database\n",
      "[*********************100%***********************]  1 of 1 completed\n",
      "Sucessfully added CRM to database\n",
      "[*********************100%***********************]  1 of 1 completed\n",
      "Sucessfully added TRV to database\n",
      "[*********************100%***********************]  1 of 1 completed\n",
      "Sucessfully added UNH to database\n",
      "[*********************100%***********************]  1 of 1 completed\n",
      "Sucessfully added VZ to database\n",
      "[*********************100%***********************]  1 of 1 completed\n",
      "Sucessfully added V to database\n",
      "[*********************100%***********************]  1 of 1 completed\n",
      "Sucessfully added WBA to database\n",
      "[*********************100%***********************]  1 of 1 completed\n",
      "Sucessfully added WMT to database\n",
      "[*********************100%***********************]  1 of 1 completed\n",
      "Sucessfully added ^GSPC to database\n",
      "[*********************100%***********************]  1 of 1 completed\n",
      "[*********************100%***********************]  1 of 1 completed\n",
      "[*********************100%***********************]  1 of 1 completed\n",
      "[*********************100%***********************]  1 of 1 completed\n",
      "[*********************100%***********************]  1 of 1 completed\n",
      "[*********************100%***********************]  1 of 1 completed\n",
      "[*********************100%***********************]  1 of 1 completed\n",
      "[*********************100%***********************]  1 of 1 completed\n",
      "[*********************100%***********************]  1 of 1 completed\n",
      "[*********************100%***********************]  1 of 1 completed\n",
      "[*********************100%***********************]  1 of 1 completed\n",
      "[*********************100%***********************]  1 of 1 completed\n",
      "[*********************100%***********************]  1 of 1 completed\n",
      "[*********************100%***********************]  1 of 1 completed\n",
      "[*********************100%***********************]  1 of 1 completed\n",
      "[*********************100%***********************]  1 of 1 completed\n",
      "[*********************100%***********************]  1 of 1 completed\n",
      "[*********************100%***********************]  1 of 1 completed\n",
      "[*********************100%***********************]  1 of 1 completed\n",
      "[*********************100%***********************]  1 of 1 completed\n",
      "[*********************100%***********************]  1 of 1 completed\n",
      "[*********************100%***********************]  1 of 1 completed\n",
      "[*********************100%***********************]  1 of 1 completed\n",
      "[*********************100%***********************]  1 of 1 completed\n",
      "[*********************100%***********************]  1 of 1 completed\n",
      "[*********************100%***********************]  1 of 1 completed\n",
      "[*********************100%***********************]  1 of 1 completed\n",
      "[*********************100%***********************]  1 of 1 completed\n",
      "[*********************100%***********************]  1 of 1 completed\n",
      "[*********************100%***********************]  1 of 1 completed\n",
      "[*********************100%***********************]  1 of 1 completed\n",
      "DJIA successfully updated\n"
     ]
    }
   ],
   "source": [
    "database_name = 'DJIA'\n",
    "djia = Database(database_name)\n",
    "\n",
    "\n",
    "if not os.path.exists(f'../data/{database_name}.db'):\n",
    "    date_range = ['2010-01-01', '2022-01-01']\n",
    "    ticker_list = get_ticker_symbols('DJIA') + ['^GSPC']\n",
    "    # Create database instance\n",
    "    djia = Database('DJIA')\n",
    "    djia.add_stock_to_database(ticker_list, start= date_range[0], end=date_range[1])\n",
    "    djia.update_database()\n",
    "    \n",
    "else:\n",
    "    djia.update_database()\n",
    "    ticker_list = djia.get_ticker_list()\n"
   ]
  },
  {
   "cell_type": "code",
   "execution_count": 4,
   "id": "60d439dc",
   "metadata": {},
   "outputs": [],
   "source": [
    "ticker_list_small = ticker_list[:5]\n",
    "data = djia.read_all_stocks_data(ticker_list=ticker_list_small)\n"
   ]
  },
  {
   "cell_type": "markdown",
   "id": "6b612519",
   "metadata": {},
   "source": [
    "# Create training and test data \n",
    "Split data up to see how well the optimiser works for the last year. We will use all years until the last year to train the optimiser and test the optimised weights for the last year"
   ]
  },
  {
   "cell_type": "code",
   "execution_count": 5,
   "id": "aafdef5e",
   "metadata": {},
   "outputs": [],
   "source": [
    "# save the recent year seperately \n",
    "data_test = [d.iloc[d.shape[0] - 250:, :] for d in data]\n",
    "# update data we will use\n",
    "data = [d.iloc[:d.shape[0] - 250, :] for d in data]"
   ]
  },
  {
   "cell_type": "code",
   "execution_count": 6,
   "id": "0d7b9fbc",
   "metadata": {},
   "outputs": [],
   "source": [
    "data_test_close = pd.concat(\n",
    "            [data[\"Close\"] for data in data_test], axis=1\n",
    "        )\n",
    "\n",
    "data_test_close.columns = ticker_list_small"
   ]
  },
  {
   "cell_type": "code",
   "execution_count": null,
   "id": "ed8175a2",
   "metadata": {},
   "outputs": [],
   "source": [
    "data_test"
   ]
  },
  {
   "cell_type": "markdown",
   "id": "ff91ead1",
   "metadata": {},
   "source": [
    "# Create portfolio"
   ]
  },
  {
   "cell_type": "code",
   "execution_count": 7,
   "id": "3f45a6c3",
   "metadata": {},
   "outputs": [],
   "source": [
    "portfolio = Portfolio([Asset({\"name\": ticker, \"data\": data[i] }) for i,ticker in enumerate(ticker_list_small) ])\n"
   ]
  },
  {
   "cell_type": "code",
   "execution_count": 8,
   "id": "b605f60e",
   "metadata": {},
   "outputs": [
    {
     "data": {
      "text/plain": [
       "array([0.31790766, 0.27720617, 0.04449884, 0.1135205 , 0.24686682])"
      ]
     },
     "execution_count": 8,
     "metadata": {},
     "output_type": "execute_result"
    }
   ],
   "source": [
    "weights = portfolio.set_random_weights()\n",
    "weights"
   ]
  },
  {
   "cell_type": "code",
   "execution_count": 9,
   "id": "686e74db",
   "metadata": {},
   "outputs": [
    {
     "data": {
      "text/html": [
       "<div>\n",
       "<style scoped>\n",
       "    .dataframe tbody tr th:only-of-type {\n",
       "        vertical-align: middle;\n",
       "    }\n",
       "\n",
       "    .dataframe tbody tr th {\n",
       "        vertical-align: top;\n",
       "    }\n",
       "\n",
       "    .dataframe thead th {\n",
       "        text-align: right;\n",
       "    }\n",
       "</style>\n",
       "<table border=\"1\" class=\"dataframe\">\n",
       "  <thead>\n",
       "    <tr style=\"text-align: right;\">\n",
       "      <th></th>\n",
       "      <th>MMM</th>\n",
       "      <th>AXP</th>\n",
       "      <th>AMGN</th>\n",
       "      <th>AAPL</th>\n",
       "      <th>BA</th>\n",
       "    </tr>\n",
       "  </thead>\n",
       "  <tbody>\n",
       "    <tr>\n",
       "      <th>MMM</th>\n",
       "      <td>0.047531</td>\n",
       "      <td>0.035583</td>\n",
       "      <td>0.023492</td>\n",
       "      <td>0.027026</td>\n",
       "      <td>0.038504</td>\n",
       "    </tr>\n",
       "    <tr>\n",
       "      <th>AXP</th>\n",
       "      <td>0.035583</td>\n",
       "      <td>0.082893</td>\n",
       "      <td>0.028226</td>\n",
       "      <td>0.033718</td>\n",
       "      <td>0.063474</td>\n",
       "    </tr>\n",
       "    <tr>\n",
       "      <th>AMGN</th>\n",
       "      <td>0.023492</td>\n",
       "      <td>0.028226</td>\n",
       "      <td>0.061018</td>\n",
       "      <td>0.026269</td>\n",
       "      <td>0.027171</td>\n",
       "    </tr>\n",
       "    <tr>\n",
       "      <th>AAPL</th>\n",
       "      <td>0.027026</td>\n",
       "      <td>0.033718</td>\n",
       "      <td>0.026269</td>\n",
       "      <td>0.080144</td>\n",
       "      <td>0.040125</td>\n",
       "    </tr>\n",
       "    <tr>\n",
       "      <th>BA</th>\n",
       "      <td>0.038504</td>\n",
       "      <td>0.063474</td>\n",
       "      <td>0.027171</td>\n",
       "      <td>0.040125</td>\n",
       "      <td>0.125648</td>\n",
       "    </tr>\n",
       "  </tbody>\n",
       "</table>\n",
       "</div>"
      ],
      "text/plain": [
       "           MMM       AXP      AMGN      AAPL        BA\n",
       "MMM   0.047531  0.035583  0.023492  0.027026  0.038504\n",
       "AXP   0.035583  0.082893  0.028226  0.033718  0.063474\n",
       "AMGN  0.023492  0.028226  0.061018  0.026269  0.027171\n",
       "AAPL  0.027026  0.033718  0.026269  0.080144  0.040125\n",
       "BA    0.038504  0.063474  0.027171  0.040125  0.125648"
      ]
     },
     "execution_count": 9,
     "metadata": {},
     "output_type": "execute_result"
    }
   ],
   "source": [
    "portfolio.covariance_matrix()"
   ]
  },
  {
   "cell_type": "markdown",
   "id": "1fd48e53",
   "metadata": {},
   "source": [
    "# Optimise Portolfio "
   ]
  },
  {
   "cell_type": "code",
   "execution_count": 10,
   "id": "89124998",
   "metadata": {},
   "outputs": [],
   "source": [
    "import matplotlib.pyplot as plt\n",
    "plt.style.use('fivethirtyeight')"
   ]
  },
  {
   "cell_type": "code",
   "execution_count": 11,
   "id": "df1b4008",
   "metadata": {},
   "outputs": [],
   "source": [
    "returns, stds, weights = portfolio.monte_carlo(iterations=1000)\n"
   ]
  },
  {
   "cell_type": "code",
   "execution_count": 13,
   "id": "84bef2ca",
   "metadata": {},
   "outputs": [],
   "source": [
    "# Drawing the efficient frontier\n",
    "X = []\n",
    "y = []\n",
    "for rt in np.linspace(-500, 500, 5000):\n",
    "    weights = portfolio.optimise_with_risk_tolerance(rt)\n",
    "    X.append(portfolio.portfolio_std(weights))\n",
    "    y.append(portfolio.portfolio_expected_return(weights))"
   ]
  },
  {
   "cell_type": "code",
   "execution_count": 14,
   "id": "b6c5082f",
   "metadata": {},
   "outputs": [],
   "source": [
    "RISK_TOLERANCE = 20;\n",
    "EXPECTED_RETURN = 0.25\n",
    "\n",
    "\n",
    "riskless_weights = portfolio.optimise_with_risk_tolerance(0)\n",
    "riskless_optimise_volatility = portfolio.portfolio_std(riskless_weights)\n",
    "riskless_optimise_expected_return = portfolio.portfolio_expected_return(riskless_weights)\n",
    "\n",
    "\n",
    "risk_tol_weights = portfolio.optimise_with_risk_tolerance(risk_tolerance=RISK_TOLERANCE)\n",
    "risk_tol_optimise_volatility = portfolio.portfolio_std(risk_tol_weights)\n",
    "risk_tol_optimise_expected_return = portfolio.portfolio_expected_return(risk_tol_weights)\n",
    "\n",
    "\n",
    "expect_return_weights = portfolio.optimise_with_expected_return(expected_return=EXPECTED_RETURN)\n",
    "expect_return_optimise_volatility = portfolio.portfolio_std(expect_return_weights)\n",
    "expect_return_optimise_expected_return = portfolio.portfolio_expected_return(expect_return_weights)\n",
    "\n",
    "sharpe_ratio_weights = portfolio.optimise_sharpe_ratio()\n",
    "sharpe_ratio_optimise_volatility = portfolio.portfolio_std(sharpe_ratio_weights)\n",
    "sharpe_ratio_optimise_expected_return = portfolio.portfolio_expected_return(sharpe_ratio_weights)\n"
   ]
  },
  {
   "cell_type": "markdown",
   "id": "980280b1",
   "metadata": {},
   "source": [
    "# Returns and Volatility Data Frame"
   ]
  },
  {
   "cell_type": "code",
   "execution_count": 15,
   "id": "b257016f",
   "metadata": {},
   "outputs": [
    {
     "data": {
      "text/html": [
       "<div>\n",
       "<style scoped>\n",
       "    .dataframe tbody tr th:only-of-type {\n",
       "        vertical-align: middle;\n",
       "    }\n",
       "\n",
       "    .dataframe tbody tr th {\n",
       "        vertical-align: top;\n",
       "    }\n",
       "\n",
       "    .dataframe thead th {\n",
       "        text-align: right;\n",
       "    }\n",
       "</style>\n",
       "<table border=\"1\" class=\"dataframe\">\n",
       "  <thead>\n",
       "    <tr style=\"text-align: right;\">\n",
       "      <th></th>\n",
       "      <th>Riskless</th>\n",
       "      <th>Riskfull</th>\n",
       "      <th>ExpectReturn</th>\n",
       "      <th>SharpeRatio</th>\n",
       "    </tr>\n",
       "  </thead>\n",
       "  <tbody>\n",
       "    <tr>\n",
       "      <th>Return</th>\n",
       "      <td>0.118735</td>\n",
       "      <td>0.256910</td>\n",
       "      <td>0.123752</td>\n",
       "      <td>0.232172</td>\n",
       "    </tr>\n",
       "    <tr>\n",
       "      <th>Volatility</th>\n",
       "      <td>0.189556</td>\n",
       "      <td>0.283096</td>\n",
       "      <td>0.250000</td>\n",
       "      <td>0.250472</td>\n",
       "    </tr>\n",
       "  </tbody>\n",
       "</table>\n",
       "</div>"
      ],
      "text/plain": [
       "            Riskless  Riskfull  ExpectReturn  SharpeRatio\n",
       "Return      0.118735  0.256910      0.123752     0.232172\n",
       "Volatility  0.189556  0.283096      0.250000     0.250472"
      ]
     },
     "execution_count": 15,
     "metadata": {},
     "output_type": "execute_result"
    }
   ],
   "source": [
    "volatility_returns_df = pd.DataFrame.from_dict(\n",
    "    {\n",
    "        \"Return\": [\n",
    "    riskless_optimise_expected_return,risk_tol_optimise_expected_return, \n",
    "    expect_return_optimise_expected_return,sharpe_ratio_optimise_expected_return\n",
    "        ], \n",
    "        \"Volatility\": [\n",
    "            riskless_optimise_volatility, risk_tol_optimise_volatility,\n",
    "            expect_return_optimise_volatility, sharpe_ratio_optimise_volatility\n",
    "        ]\n",
    "    }, orient=\"index\", columns=['Riskless', 'Riskfull', \"ExpectReturn\", \"SharpeRatio\"]\n",
    "\n",
    ")\n",
    "\n",
    "\n",
    "\n",
    "volatility_returns_df\n",
    "\n"
   ]
  },
  {
   "cell_type": "markdown",
   "id": "3ee9826f",
   "metadata": {},
   "source": [
    "# Optimal weights data frame"
   ]
  },
  {
   "cell_type": "code",
   "execution_count": 16,
   "id": "4957249a",
   "metadata": {},
   "outputs": [
    {
     "data": {
      "text/html": [
       "<div>\n",
       "<style scoped>\n",
       "    .dataframe tbody tr th:only-of-type {\n",
       "        vertical-align: middle;\n",
       "    }\n",
       "\n",
       "    .dataframe tbody tr th {\n",
       "        vertical-align: top;\n",
       "    }\n",
       "\n",
       "    .dataframe thead th {\n",
       "        text-align: right;\n",
       "    }\n",
       "</style>\n",
       "<table border=\"1\" class=\"dataframe\">\n",
       "  <thead>\n",
       "    <tr style=\"text-align: right;\">\n",
       "      <th></th>\n",
       "      <th>Riskless</th>\n",
       "      <th>Riskfull</th>\n",
       "      <th>ExpectReturn</th>\n",
       "      <th>SharpeRatio</th>\n",
       "    </tr>\n",
       "  </thead>\n",
       "  <tbody>\n",
       "    <tr>\n",
       "      <th>MMM</th>\n",
       "      <td>0.461678</td>\n",
       "      <td>1.474515e-15</td>\n",
       "      <td>3.099041e-17</td>\n",
       "      <td>0.022916</td>\n",
       "    </tr>\n",
       "    <tr>\n",
       "      <th>AXP</th>\n",
       "      <td>0.063192</td>\n",
       "      <td>0.000000e+00</td>\n",
       "      <td>0.000000e+00</td>\n",
       "      <td>0.306798</td>\n",
       "    </tr>\n",
       "    <tr>\n",
       "      <th>AMGN</th>\n",
       "      <td>0.310818</td>\n",
       "      <td>0.000000e+00</td>\n",
       "      <td>1.918194e-01</td>\n",
       "      <td>0.139518</td>\n",
       "    </tr>\n",
       "    <tr>\n",
       "      <th>AAPL</th>\n",
       "      <td>0.164312</td>\n",
       "      <td>1.000000e+00</td>\n",
       "      <td>8.081806e-01</td>\n",
       "      <td>0.110614</td>\n",
       "    </tr>\n",
       "    <tr>\n",
       "      <th>BA</th>\n",
       "      <td>0.000000</td>\n",
       "      <td>1.873501e-16</td>\n",
       "      <td>4.870012e-17</td>\n",
       "      <td>0.420154</td>\n",
       "    </tr>\n",
       "  </tbody>\n",
       "</table>\n",
       "</div>"
      ],
      "text/plain": [
       "      Riskless      Riskfull  ExpectReturn  SharpeRatio\n",
       "MMM   0.461678  1.474515e-15  3.099041e-17     0.022916\n",
       "AXP   0.063192  0.000000e+00  0.000000e+00     0.306798\n",
       "AMGN  0.310818  0.000000e+00  1.918194e-01     0.139518\n",
       "AAPL  0.164312  1.000000e+00  8.081806e-01     0.110614\n",
       "BA    0.000000  1.873501e-16  4.870012e-17     0.420154"
      ]
     },
     "execution_count": 16,
     "metadata": {},
     "output_type": "execute_result"
    }
   ],
   "source": [
    "optimal_weights = pd.DataFrame()\n",
    "\n",
    "optimal_weights = pd.concat([pd.Series(riskless_weights), pd.Series(risk_tol_weights), pd.Series(sharpe_ratio_weights), pd.Series(expect_return_weights)], axis=1)\n",
    "optimal_weights.index = [asset.name for asset in portfolio.assets]\n",
    "optimal_weights.columns = ['Riskless', 'Riskfull', \"ExpectReturn\", \"SharpeRatio\"]\n",
    "\n",
    "optimal_weights"
   ]
  },
  {
   "cell_type": "markdown",
   "id": "8bb3acba",
   "metadata": {},
   "source": [
    "# Plot Efficient Frontier"
   ]
  },
  {
   "cell_type": "code",
   "execution_count": 18,
   "id": "f28483dd",
   "metadata": {
    "scrolled": true
   },
   "outputs": [
    {
     "data": {
      "image/png": "[encoded data removed]",
      "text/plain": [
       "<Figure size 432x288 with 1 Axes>"
      ]
     },
     "metadata": {},
     "output_type": "display_data"
    }
   ],
   "source": [
    "plt.plot(riskless_optimise_volatility, riskless_optimise_expected_return, 'm+', markeredgewidth=5, markersize=20, label='optimise_with_risk_tolerance(0)')\n",
    "plt.plot(risk_tol_optimise_volatility, risk_tol_optimise_expected_return, 'r+', markeredgewidth=5, markersize=20, label='optimise_with_risk_tolerance(20)')\n",
    "plt.plot(expect_return_optimise_volatility, expect_return_optimise_expected_return, 'g+', markeredgewidth=5, markersize=20, label='optimise_with_expected_return(0.25)')\n",
    "plt.plot(sharpe_ratio_optimise_volatility, sharpe_ratio_optimise_expected_return, 'y+', markeredgewidth=5, markersize=20, label='optimise_sharpe_ratio()')\n",
    "# plt.scatter(stds, returns, s=4)\n",
    "plt.plot(X, y, color='k', linewidth=3, label='Efficient frontier')\n",
    "\n",
    "plt.title(\"Efficient  Frontier\")\n",
    "plt.xlabel(\"Portfolio Volatility\")\n",
    "plt.ylabel(\"Portfolio Returns\")\n",
    "plt.legend(loc=\"lower right\")\n",
    "plt.show()"
   ]
  },
  {
   "cell_type": "markdown",
   "id": "7032827f",
   "metadata": {},
   "source": [
    "# Test: If 1000 USD invested last year then how much return would i get?"
   ]
  },
  {
   "cell_type": "code",
   "execution_count": null,
   "id": "2b9c61fc",
   "metadata": {},
   "outputs": [],
   "source": [
    "amount_invest = 1000\n",
    "expected_return = pd.DataFrame(amount_invest * (1 + volatility_returns_df.iloc[0,:] ))\n",
    "print(\"--------------------------------------------------------------------------------\")\n",
    "print(\"                          Expected Returns on Potfolio                          \")\n",
    "print(\"--------------------------------------------------------------------------------\")\n",
    "print(expected_return)\n",
    "print(\"\")\n",
    "print(f\"If {amount_invest} USD was invested on {data_test[0].iloc[0,0]}| I would have ...\")\n",
    "data_test = data_test_close\n",
    "actual_return = (data_test.iloc[data_test.shape[0]-1,:] - data_test.iloc[0,:])/data_test.iloc[0,:]\n",
    "beg_price = data_test.iloc[0,:]\n",
    "end_price = data_test.iloc[data_test.shape[0]-1,:]\n",
    "percentage_change = (end_price - beg_price)/(beg_price) + 1\n",
    "\n",
    "print(\"--------------------------------------------------------------------------------\")\n",
    "w = optimal_weights.iloc[:,0]\n",
    "print(f\"Using the Portfolio Weights for Risk Tolerance {0} (Riskless)\")\n",
    "money_left = sum(w*percentage_change*amount_invest)\n",
    "print(\"\")\n",
    "print(f\"        Starting balance {amount_invest} USD : Ending with {round(money_left,2)} USD\")\n",
    "print(\"\")\n",
    "\n",
    "print(\"--------------------------------------------------------------------------------\")\n",
    "w = optimal_weights.iloc[:,1]\n",
    "print(f\"Using the Portfolio Weights for Risk Tolerance {RISK_TOLERANCE}\")\n",
    "money_left = sum(w*percentage_change*amount_invest)\n",
    "print(\"\")\n",
    "print(f\"        Starting balance {amount_invest} USD : Ending with {round(money_left,2)} USD\")\n",
    "print(\"\")\n",
    "\n",
    "\n",
    "print(\"--------------------------------------------------------------------------------\")\n",
    "w = optimal_weights.iloc[:,2]\n",
    "print(f\"Using the Portfolio Weights for Expect to Return {EXPECTED_RETURN}%\")\n",
    "money_left = sum(w*percentage_change*amount_invest)\n",
    "print(\"\")\n",
    "print(f\"        Starting balance {amount_invest} USD : Ending with {round(money_left,2)} USD\")\n",
    "print(\"\")\n",
    "\n",
    "\n",
    "print(\"--------------------------------------------------------------------------------\")\n",
    "w = optimal_weights.iloc[:,3]\n",
    "print(f\"Using the Portfolio Weights for Sharpe Ratio\")\n",
    "money_left = sum(w*percentage_change*amount_invest)\n",
    "print(\"\")\n",
    "print(f\"        Starting balance {amount_invest} USD : Ending with {round(money_left,2)} USD\")\n",
    "print(\"\")\n",
    "\n"
   ]
  },
  {
   "cell_type": "code",
   "execution_count": null,
   "id": "43409c51",
   "metadata": {},
   "outputs": [],
   "source": []
  },
  {
   "cell_type": "code",
   "execution_count": null,
   "id": "d02c587b",
   "metadata": {},
   "outputs": [],
   "source": []
  },
  {
   "cell_type": "code",
   "execution_count": null,
   "id": "4f33b069",
   "metadata": {},
   "outputs": [],
   "source": []
  }
 ],
 "metadata": {
  "kernelspec": {
   "display_name": "Python 3 (ipykernel)",
   "language": "python",
   "name": "python3"
  },
  "language_info": {
   "codemirror_mode": {
    "name": "ipython",
    "version": 3
   },
   "file_extension": ".py",
   "mimetype": "text/x-python",
   "name": "python",
   "nbconvert_exporter": "python",
   "pygments_lexer": "ipython3",
   "version": "3.8.5"
  }
 },
 "nbformat": 4,
 "nbformat_minor": 5
}
