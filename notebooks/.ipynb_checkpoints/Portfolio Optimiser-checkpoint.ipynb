{
 "cells": [
  {
   "cell_type": "markdown",
   "id": "9518a7dd",
   "metadata": {},
   "source": [
    "# Porftolio Optimiser\n",
    "\n",
    "## Description\n",
    "This program attempts to optimise a users portfolio using the Efficient Frontier. \n",
    "\n",
    "## Goal\n",
    "Create portfolio of assets for which investment has maximum return for given risk level (ideally minimum) OR create portfolio that offers lowest risk for given expected return.\n",
    "\n",
    "## Theory\n",
    "Modern portfolio theory (MPT) is a model to creating a portfolio that aims to maximise the return for a given amount of risk. \n",
    "\n",
    "MPT encourages diversification of assets. Consider a portfolio of assets, {A, B, C} where the three assets are 'diverse'. If the three assets have little to zero correlation then we can have a portfolio with low variance on returns. \n",
    "\n",
    "Efficient Frontier is a graph of 'Expected returns' versues 'Volatility'. Points inside graph show set of optimal portfolios of expected returns for given risk (measured as volatility) or risk given expected returns. Points outside line are sub-optimal. \n",
    "\n",
    "### Assumptions\n",
    "1. Asset Returns are (Jointly) Normally Distributed Random Variables\n",
    "2. Correlations between Assets are Fixed and Constant Forever\n",
    "3. All Investors Aim to Maximize Economic Utility\n",
    "4. All Investors are Rational and Risk Averse\n",
    "5. All Investors have Access to the Same Information at the Same Time\n",
    "6. All Investors have Access to the Same Information at the Same Time\n",
    "7. There are no Taxes or Transaction Costs\n",
    "8. Investors are Price Takers\n",
    "9. Every Investor has a Credit Limit\n",
    "10. All Securities can be Divided into Parcels of Any Size\n",
    "\n",
    "### Basics of the model\n",
    "\n",
    "\n",
    "\n",
    "### 1. Portfolio Expected Return\n",
    "\n",
    "Each asset in portfolio is weighted i.e. the proportion the asset makes up the portfolio. To calculate expected return of the porfolio we multiply weights of each asset by the expected returns of each asset, and sum.\n",
    "\n",
    "\n",
    "### 2. Portfolio Standard deviation (volatility)\n",
    "\n",
    "Calculate the annual covariance matrix and take the inner product with the weights. \n",
    "\n",
    "### 3. Sharpe Ratio\n",
    "\n",
    "Sharpe ratio measures the return of an investment in relation to the risk-free rate and its risk profile.\n",
    "\n",
    "In general, higher value of Sharpe ratio the better and lucractive the investement. \n",
    "\n",
    "### 4. Efficient Frontier\n",
    "\n",
    "Plot of 'Expected return' vs 'Volatility'\n",
    "\n",
    "\n"
   ]
  },
  {
   "cell_type": "markdown",
   "id": "44c59122",
   "metadata": {},
   "source": [
    "# Import Packages"
   ]
  },
  {
   "cell_type": "code",
   "execution_count": 1,
   "id": "cb3d028a",
   "metadata": {},
   "outputs": [
    {
     "name": "stdout",
     "output_type": "stream",
     "text": [
      "/Users/syed/Desktop/ideal-stock-portfolio/src\n"
     ]
    }
   ],
   "source": [
    "cd ../src"
   ]
  },
  {
   "cell_type": "code",
   "execution_count": 2,
   "id": "037b5897",
   "metadata": {},
   "outputs": [],
   "source": [
    "import numpy as np\n",
    "import pandas as pd\n",
    "import yfinance as yf\n",
    "\n",
    "import os.path\n",
    "\n",
    "from assets_class import Asset\n",
    "from portfolio_class import Portfolio\n",
    "from database_setup_class import Database, get_ticker_symbols\n",
    "\n",
    "from datetime import datetime\n",
    "\n",
    "%load_ext autoreload\n",
    "%autoreload 2"
   ]
  },
  {
   "cell_type": "markdown",
   "id": "8272bf8e",
   "metadata": {},
   "source": [
    "\n",
    "# Download/Read to/from database"
   ]
  },
  {
   "cell_type": "code",
   "execution_count": 128,
   "id": "cbe7126a",
   "metadata": {},
   "outputs": [
    {
     "name": "stdout",
     "output_type": "stream",
     "text": [
      "[*********************100%***********************]  1 of 1 completed\n",
      "[*********************100%***********************]  1 of 1 completed\n",
      "[*********************100%***********************]  1 of 1 completed\n",
      "[*********************100%***********************]  1 of 1 completed\n",
      "[*********************100%***********************]  1 of 1 completed\n",
      "[*********************100%***********************]  1 of 1 completed\n",
      "[*********************100%***********************]  1 of 1 completed\n",
      "[*********************100%***********************]  1 of 1 completed\n",
      "[*********************100%***********************]  1 of 1 completed\n",
      "[*********************100%***********************]  1 of 1 completed\n",
      "[*********************100%***********************]  1 of 1 completed\n",
      "[*********************100%***********************]  1 of 1 completed\n",
      "[*********************100%***********************]  1 of 1 completed\n",
      "[*********************100%***********************]  1 of 1 completed\n",
      "[*********************100%***********************]  1 of 1 completed\n",
      "[*********************100%***********************]  1 of 1 completed\n",
      "[*********************100%***********************]  1 of 1 completed\n",
      "[*********************100%***********************]  1 of 1 completed\n",
      "[*********************100%***********************]  1 of 1 completed\n",
      "[*********************100%***********************]  1 of 1 completed\n",
      "[*********************100%***********************]  1 of 1 completed\n",
      "[*********************100%***********************]  1 of 1 completed\n",
      "[*********************100%***********************]  1 of 1 completed\n",
      "[*********************100%***********************]  1 of 1 completed\n",
      "[*********************100%***********************]  1 of 1 completed\n",
      "[*********************100%***********************]  1 of 1 completed\n",
      "[*********************100%***********************]  1 of 1 completed\n",
      "[*********************100%***********************]  1 of 1 completed\n",
      "[*********************100%***********************]  1 of 1 completed\n",
      "[*********************100%***********************]  1 of 1 completed\n",
      "DJIA successfully updated\n"
     ]
    }
   ],
   "source": [
    "database_name = 'DJIA'\n",
    "djia = Database(database_name)\n",
    "\n",
    "\n",
    "if not os.path.exists(f'../data/{database_name}.db'):\n",
    "    date_range = ['2010-01-01', '2022-01-01']\n",
    "    ticker_list = get_ticker_symbols('DJIA') \n",
    "    # Create database instance\n",
    "    djia = Database('DJIA')\n",
    "    djia.add_stock_to_database(ticker_list, start= date_range[0], end=date_range[1])\n",
    "    djia.update_database()\n",
    "    \n",
    "else:\n",
    "    djia.update_database()\n",
    "    ticker_list = djia.get_ticker_list()\n"
   ]
  },
  {
   "cell_type": "code",
   "execution_count": 129,
   "id": "6d81701f",
   "metadata": {},
   "outputs": [],
   "source": [
    "ticker_list_small = ticker_list[:5]\n",
    "data = djia.read_all_stocks_data(ticker_list=ticker_list_small)\n"
   ]
  },
  {
   "cell_type": "markdown",
   "id": "6b612519",
   "metadata": {},
   "source": [
    "# Create training and test data \n",
    "Split data up to see how well the optimiser works for the last year. We will use all years until the last year to train the optimiser and test the optimised weights for the last year"
   ]
  },
  {
   "cell_type": "code",
   "execution_count": 130,
   "id": "aafdef5e",
   "metadata": {},
   "outputs": [],
   "source": [
    "# save the recent year seperately \n",
    "data_test = [d.iloc[d.shape[0] - 250:, :] for d in data]\n",
    "# update data we will use\n",
    "data = [d.iloc[:d.shape[0] - 250, :] for d in data]"
   ]
  },
  {
   "cell_type": "code",
   "execution_count": 131,
   "id": "0d7b9fbc",
   "metadata": {},
   "outputs": [],
   "source": [
    "data_test_close = pd.concat(\n",
    "            [data[\"Close\"] for data in data_test], axis=1\n",
    "        )\n",
    "\n",
    "data_test_close.columns = ticker_list_small"
   ]
  },
  {
   "cell_type": "code",
   "execution_count": 133,
   "id": "5d6ad285",
   "metadata": {},
   "outputs": [
    {
     "data": {
      "text/plain": [
       "[            Date        Open        High         Low       Close   Adj Close  \\\n",
       " 2788  2021-02-01  175.970001  177.110001  173.970001  174.699997  169.325317   \n",
       " 2789  2021-02-02  176.250000  177.529999  174.850006  175.020004  169.635483   \n",
       " 2790  2021-02-03  175.380005  177.440002  173.550003  175.479996  170.081329   \n",
       " 2791  2021-02-04  175.789993  177.289993  175.509995  177.100006  171.651474   \n",
       " 2792  2021-02-05  177.600006  179.229996  176.699997  179.009995  173.502716   \n",
       " ...          ...         ...         ...         ...         ...         ...   \n",
       " 3033  2022-01-20  178.580002  179.220001  173.309998  173.570007  173.570007   \n",
       " 3034  2022-01-21  173.399994  176.020004  172.559998  172.649994  172.649994   \n",
       " 3035  2022-01-24  171.860001  173.210007  168.830002  172.800003  172.800003   \n",
       " 3036  2022-01-25  173.529999  174.559998  168.009995  173.750000  173.750000   \n",
       " 3037  2022-01-26  173.529999  174.279999  172.210007  173.735001  173.735001   \n",
       " \n",
       "        Volume  \n",
       " 2788  2569700  \n",
       " 2789  2844400  \n",
       " 2790  2874200  \n",
       " 2791  1833000  \n",
       " 2792  1822400  \n",
       " ...       ...  \n",
       " 3033  2817300  \n",
       " 3034  3478500  \n",
       " 3035  4713700  \n",
       " 3036  5050000  \n",
       " 3037   210788  \n",
       " \n",
       " [250 rows x 7 columns],\n",
       "             Date        Open        High         Low       Close   Adj Close  \\\n",
       " 2788  2021-02-01  117.699997  119.290001  117.000000  117.029999  115.796432   \n",
       " 2789  2021-02-02  118.290001  122.419998  118.279999  120.699997  119.427742   \n",
       " 2790  2021-02-03  120.080002  120.980003  119.559998  120.440002  119.170486   \n",
       " 2791  2021-02-04  120.989998  125.410004  120.800003  124.900002  123.583473   \n",
       " 2792  2021-02-05  126.620003  127.339996  125.629997  126.279999  124.948921   \n",
       " ...          ...         ...         ...         ...         ...         ...   \n",
       " 3033  2022-01-20  161.119995  164.570007  159.460007  160.919998  160.919998   \n",
       " 3034  2022-01-21  159.949997  161.880005  157.679993  158.740005  158.740005   \n",
       " 3035  2022-01-24  155.820007  159.449997  152.850006  158.929993  158.929993   \n",
       " 3036  2022-01-25  166.139999  174.470001  159.660004  173.110001  173.110001   \n",
       " 3037  2022-01-26  166.139999  177.210007  175.500000  176.490005  176.490005   \n",
       " \n",
       "         Volume  \n",
       " 2788   3359800  \n",
       " 2789   4036700  \n",
       " 2790   2782500  \n",
       " 2791   3915900  \n",
       " 2792   3184200  \n",
       " ...        ...  \n",
       " 3033   4205600  \n",
       " 3034   3775300  \n",
       " 3035   5406500  \n",
       " 3036  13317700  \n",
       " 3037    634666  \n",
       " \n",
       " [250 rows x 7 columns],\n",
       "             Date        Open        High         Low       Close   Adj Close  \\\n",
       " 2788  2021-02-01  244.300003  245.479996  239.580002  240.429993  233.215103   \n",
       " 2789  2021-02-02  240.000000  241.949997  236.800003  240.490005  233.273315   \n",
       " 2790  2021-02-03  231.559998  239.869995  231.389999  237.080002  229.965652   \n",
       " 2791  2021-02-04  236.279999  237.860001  233.750000  237.220001  230.101440   \n",
       " 2792  2021-02-05  238.309998  238.880005  235.380005  236.320007  229.228455   \n",
       " ...          ...         ...         ...         ...         ...         ...   \n",
       " 3033  2022-01-20  233.729996  233.729996  228.809998  228.899994  228.899994   \n",
       " 3034  2022-01-21  230.600006  231.460007  227.309998  227.720001  227.720001   \n",
       " 3035  2022-01-24  227.479996  229.139999  219.979996  226.080002  226.080002   \n",
       " 3036  2022-01-25  223.679993  227.500000  222.270004  225.039993  225.039993   \n",
       " 3037  2022-01-26  223.679993  225.139999  221.610001  225.130005  225.130005   \n",
       " \n",
       "        Volume  \n",
       " 2788  2173500  \n",
       " 2789  2444200  \n",
       " 2790  4479200  \n",
       " 2791  2819700  \n",
       " 2792  2421800  \n",
       " ...       ...  \n",
       " 3033  2093700  \n",
       " 3034  3534800  \n",
       " 3035  4419600  \n",
       " 3036  2766600  \n",
       " 3037   146012  \n",
       " \n",
       " [250 rows x 7 columns],\n",
       "             Date        Open        High         Low       Close   Adj Close  \\\n",
       " 2788  2021-02-01  133.750000  135.380005  130.929993  134.139999  133.318115   \n",
       " 2789  2021-02-02  135.729996  136.309998  134.610001  134.990005  134.162903   \n",
       " 2790  2021-02-03  135.759995  135.770004  133.610001  133.940002  133.119354   \n",
       " 2791  2021-02-04  136.300003  137.399994  134.589996  137.389999  136.548218   \n",
       " 2792  2021-02-05  137.350006  137.419998  135.860001  136.759995  136.125168   \n",
       " ...          ...         ...         ...         ...         ...         ...   \n",
       " 3033  2022-01-20  166.979996  169.679993  164.179993  164.509995  164.509995   \n",
       " 3034  2022-01-21  164.419998  166.330002  162.300003  162.410004  162.410004   \n",
       " 3035  2022-01-24  160.020004  162.300003  154.699997  161.619995  161.619995   \n",
       " 3036  2022-01-25  158.979996  162.759995  157.020004  159.779999  159.779999   \n",
       " 3037  2022-01-26  158.979996  163.630005  161.929993  161.929993  161.929993   \n",
       " \n",
       "          Volume  \n",
       " 2788  106239800  \n",
       " 2789   83305400  \n",
       " 2790   89880900  \n",
       " 2791   84183100  \n",
       " 2792   75693800  \n",
       " ...         ...  \n",
       " 3033   91420500  \n",
       " 3034  122501300  \n",
       " 3035  162706700  \n",
       " 3036  114972000  \n",
       " 3037    9072955  \n",
       " \n",
       " [250 rows x 7 columns],\n",
       "             Date        Open        High         Low       Close   Adj Close  \\\n",
       " 2788  2021-02-01  196.000000  197.380005  192.860001  195.839996  195.839996   \n",
       " 2789  2021-02-02  198.979996  203.029999  198.089996  200.940002  200.940002   \n",
       " 2790  2021-02-03  202.000000  208.160004  201.259995  207.389999  207.389999   \n",
       " 2791  2021-02-04  209.869995  212.479996  208.020004  210.639999  210.639999   \n",
       " 2792  2021-02-05  212.250000  213.199997  206.660004  207.929993  207.929993   \n",
       " ...          ...         ...         ...         ...         ...         ...   \n",
       " 3033  2022-01-20  217.380005  221.949997  213.419998  214.190002  214.190002   \n",
       " 3034  2022-01-21  213.789993  213.789993  204.570007  205.440002  205.440002   \n",
       " 3035  2022-01-24  199.850006  204.800003  192.509995  204.199997  204.199997   \n",
       " 3036  2022-01-25  200.100006  205.630005  197.550003  204.100006  204.100006   \n",
       " 3037  2022-01-26  200.100006  206.220001  198.059998  198.169998  198.169998   \n",
       " \n",
       "         Volume  \n",
       " 2788   9061900  \n",
       " 2789  11130600  \n",
       " 2790  11836900  \n",
       " 2791  11869900  \n",
       " 2792   9546100  \n",
       " ...        ...  \n",
       " 3033   7636800  \n",
       " 3034  11517900  \n",
       " 3035  13810300  \n",
       " 3036   8792100  \n",
       " 3037   2769772  \n",
       " \n",
       " [250 rows x 7 columns]]"
      ]
     },
     "execution_count": 133,
     "metadata": {},
     "output_type": "execute_result"
    }
   ],
   "source": [
    "data_test"
   ]
  },
  {
   "cell_type": "markdown",
   "id": "ff91ead1",
   "metadata": {},
   "source": [
    "# Create portfolio"
   ]
  },
  {
   "cell_type": "code",
   "execution_count": null,
   "id": "481d741a",
   "metadata": {},
   "outputs": [],
   "source": [
    "asset1 = Asset({\"name\": ticker_list_small[0], \"data\": data[0]})\n",
    "asset1"
   ]
  },
  {
   "cell_type": "code",
   "execution_count": 24,
   "id": "3f45a6c3",
   "metadata": {},
   "outputs": [],
   "source": [
    "portfolio = Portfolio([Asset({\"name\": ticker, \"data\": data[i] }) for i,ticker in enumerate(ticker_list_small) ])\n"
   ]
  },
  {
   "cell_type": "code",
   "execution_count": 30,
   "id": "bec1a51f",
   "metadata": {},
   "outputs": [
    {
     "data": {
      "text/plain": [
       "array([0.08476247, 0.51544014, 0.04234598, 0.21858723, 0.13886417])"
      ]
     },
     "execution_count": 30,
     "metadata": {},
     "output_type": "execute_result"
    }
   ],
   "source": [
    "weights = portfolio.set_random_weights()\n",
    "weights"
   ]
  },
  {
   "cell_type": "code",
   "execution_count": 34,
   "id": "7ba9d726",
   "metadata": {},
   "outputs": [
    {
     "data": {
      "text/html": [
       "<div>\n",
       "<style scoped>\n",
       "    .dataframe tbody tr th:only-of-type {\n",
       "        vertical-align: middle;\n",
       "    }\n",
       "\n",
       "    .dataframe tbody tr th {\n",
       "        vertical-align: top;\n",
       "    }\n",
       "\n",
       "    .dataframe thead th {\n",
       "        text-align: right;\n",
       "    }\n",
       "</style>\n",
       "<table border=\"1\" class=\"dataframe\">\n",
       "  <thead>\n",
       "    <tr style=\"text-align: right;\">\n",
       "      <th></th>\n",
       "      <th>MMM</th>\n",
       "      <th>AXP</th>\n",
       "      <th>AMGN</th>\n",
       "      <th>AAPL</th>\n",
       "      <th>BA</th>\n",
       "    </tr>\n",
       "  </thead>\n",
       "  <tbody>\n",
       "    <tr>\n",
       "      <th>MMM</th>\n",
       "      <td>0.047545</td>\n",
       "      <td>0.035599</td>\n",
       "      <td>0.023498</td>\n",
       "      <td>0.027044</td>\n",
       "      <td>0.038522</td>\n",
       "    </tr>\n",
       "    <tr>\n",
       "      <th>AXP</th>\n",
       "      <td>0.035599</td>\n",
       "      <td>0.082919</td>\n",
       "      <td>0.028239</td>\n",
       "      <td>0.033721</td>\n",
       "      <td>0.063493</td>\n",
       "    </tr>\n",
       "    <tr>\n",
       "      <th>AMGN</th>\n",
       "      <td>0.023498</td>\n",
       "      <td>0.028239</td>\n",
       "      <td>0.061038</td>\n",
       "      <td>0.026285</td>\n",
       "      <td>0.027184</td>\n",
       "    </tr>\n",
       "    <tr>\n",
       "      <th>AAPL</th>\n",
       "      <td>0.027044</td>\n",
       "      <td>0.033721</td>\n",
       "      <td>0.026285</td>\n",
       "      <td>0.080151</td>\n",
       "      <td>0.040128</td>\n",
       "    </tr>\n",
       "    <tr>\n",
       "      <th>BA</th>\n",
       "      <td>0.038522</td>\n",
       "      <td>0.063493</td>\n",
       "      <td>0.027184</td>\n",
       "      <td>0.040128</td>\n",
       "      <td>0.125688</td>\n",
       "    </tr>\n",
       "  </tbody>\n",
       "</table>\n",
       "</div>"
      ],
      "text/plain": [
       "           MMM       AXP      AMGN      AAPL        BA\n",
       "MMM   0.047545  0.035599  0.023498  0.027044  0.038522\n",
       "AXP   0.035599  0.082919  0.028239  0.033721  0.063493\n",
       "AMGN  0.023498  0.028239  0.061038  0.026285  0.027184\n",
       "AAPL  0.027044  0.033721  0.026285  0.080151  0.040128\n",
       "BA    0.038522  0.063493  0.027184  0.040128  0.125688"
      ]
     },
     "execution_count": 34,
     "metadata": {},
     "output_type": "execute_result"
    }
   ],
   "source": [
    "portfolio.covariance_matrix()"
   ]
  },
  {
   "cell_type": "markdown",
   "id": "1fd48e53",
   "metadata": {},
   "source": [
    "# Optimise Portolfio "
   ]
  },
  {
   "cell_type": "code",
   "execution_count": 35,
   "id": "89124998",
   "metadata": {},
   "outputs": [],
   "source": [
    "import matplotlib.pyplot as plt\n",
    "plt.style.use('fivethirtyeight')"
   ]
  },
  {
   "cell_type": "code",
   "execution_count": 43,
   "id": "df1b4008",
   "metadata": {},
   "outputs": [],
   "source": [
    "returns, stds, weights = portfolio.monte_carlo(iterations=1000)\n"
   ]
  },
  {
   "cell_type": "code",
   "execution_count": 44,
   "id": "273c9268",
   "metadata": {},
   "outputs": [
    {
     "data": {
      "text/plain": [
       "<matplotlib.collections.PathCollection at 0x7fdde7e2bca0>"
      ]
     },
     "execution_count": 44,
     "metadata": {},
     "output_type": "execute_result"
    },
    {
     "data": {
      "image/png": "[encoded data removed]",
      "text/plain": [
       "<Figure size 432x288 with 1 Axes>"
      ]
     },
     "metadata": {},
     "output_type": "display_data"
    }
   ],
   "source": [
    "plt.scatter(stds,returns)"
   ]
  },
  {
   "cell_type": "code",
   "execution_count": 57,
   "id": "84bef2ca",
   "metadata": {},
   "outputs": [],
   "source": [
    "# Drawing the efficient frontier\n",
    "X = []\n",
    "y = []\n",
    "for rt in np.linspace(-500, 500, 5000):\n",
    "    weights = portfolio.optimise_with_risk_tolerance(rt)\n",
    "    X.append(portfolio.portfolio_std(weights))\n",
    "    y.append(portfolio.portfolio_expected_return(weights))"
   ]
  },
  {
   "cell_type": "code",
   "execution_count": 52,
   "id": "b6c5082f",
   "metadata": {},
   "outputs": [],
   "source": [
    "RISK_TOLERANCE = 20;\n",
    "EXPECTED_RETURN = 0.25\n",
    "\n",
    "\n",
    "riskless_weights = portfolio.optimise_with_risk_tolerance(0)\n",
    "riskless_optimise_volatility = portfolio.portfolio_std(riskless_weights)\n",
    "riskless_optimise_expected_return = portfolio.portfolio_expected_return(riskless_weights)\n",
    "\n",
    "\n",
    "risk_tol_weights = portfolio.optimise_with_risk_tolerance(risk_tolerance=RISK_TOLERANCE)\n",
    "risk_tol_optimise_volatility = portfolio.portfolio_std(risk_tol_weights)\n",
    "risk_tol_optimise_expected_return = portfolio.portfolio_expected_return(risk_tol_weights)\n",
    "\n",
    "\n",
    "expect_return_weights = portfolio.optimise_with_expected_return(expected_return=EXPECTED_RETURN)\n",
    "expect_return_optimise_volatility = portfolio.portfolio_std(expect_return_weights)\n",
    "expect_return_optimise_expected_return = portfolio.portfolio_expected_return(expect_return_weights)\n",
    "\n",
    "sharpe_ratio_weights = portfolio.optimise_sharpe_ratio()\n",
    "sharpe_ratio_optimise_volatility = portfolio.portfolio_std(sharpe_ratio_weights)\n",
    "sharpe_ratio_optimise_expected_return = portfolio.portfolio_expected_return(sharpe_ratio_weights)\n"
   ]
  },
  {
   "cell_type": "markdown",
   "id": "980280b1",
   "metadata": {},
   "source": [
    "# Returns and Volatility Data Frame"
   ]
  },
  {
   "cell_type": "code",
   "execution_count": 54,
   "id": "b257016f",
   "metadata": {},
   "outputs": [
    {
     "data": {
      "text/html": [
       "<div>\n",
       "<style scoped>\n",
       "    .dataframe tbody tr th:only-of-type {\n",
       "        vertical-align: middle;\n",
       "    }\n",
       "\n",
       "    .dataframe tbody tr th {\n",
       "        vertical-align: top;\n",
       "    }\n",
       "\n",
       "    .dataframe thead th {\n",
       "        text-align: right;\n",
       "    }\n",
       "</style>\n",
       "<table border=\"1\" class=\"dataframe\">\n",
       "  <thead>\n",
       "    <tr style=\"text-align: right;\">\n",
       "      <th></th>\n",
       "      <th>Riskless</th>\n",
       "      <th>Riskfull</th>\n",
       "      <th>ExpectReturn</th>\n",
       "      <th>SharpeRatio</th>\n",
       "    </tr>\n",
       "  </thead>\n",
       "  <tbody>\n",
       "    <tr>\n",
       "      <th>Return</th>\n",
       "      <td>0.118846</td>\n",
       "      <td>0.255533</td>\n",
       "      <td>0.22063</td>\n",
       "      <td>0.230528</td>\n",
       "    </tr>\n",
       "    <tr>\n",
       "      <th>Volatility</th>\n",
       "      <td>0.189590</td>\n",
       "      <td>0.283110</td>\n",
       "      <td>0.25000</td>\n",
       "      <td>0.249789</td>\n",
       "    </tr>\n",
       "  </tbody>\n",
       "</table>\n",
       "</div>"
      ],
      "text/plain": [
       "            Riskless  Riskfull  ExpectReturn  SharpeRatio\n",
       "Return      0.118846  0.255533       0.22063     0.230528\n",
       "Volatility  0.189590  0.283110       0.25000     0.249789"
      ]
     },
     "execution_count": 54,
     "metadata": {},
     "output_type": "execute_result"
    }
   ],
   "source": [
    "volatility_returns_df = pd.DataFrame.from_dict(\n",
    "    {\n",
    "        \"Return\": [\n",
    "    riskless_optimise_expected_return,risk_tol_optimise_expected_return, \n",
    "    expect_return_optimise_expected_return,sharpe_ratio_optimise_expected_return\n",
    "        ], \n",
    "        \"Volatility\": [\n",
    "            riskless_optimise_volatility, risk_tol_optimise_volatility,\n",
    "            expect_return_optimise_volatility, sharpe_ratio_optimise_volatility\n",
    "        ]\n",
    "    }, orient=\"index\", columns=['Riskless', 'Riskfull', \"ExpectReturn\", \"SharpeRatio\"]\n",
    "\n",
    ")\n",
    "\n",
    "\n",
    "\n",
    "volatility_returns_df\n",
    "\n"
   ]
  },
  {
   "cell_type": "markdown",
   "id": "3ee9826f",
   "metadata": {},
   "source": [
    "# Optimal weights data frame"
   ]
  },
  {
   "cell_type": "code",
   "execution_count": 55,
   "id": "4957249a",
   "metadata": {},
   "outputs": [
    {
     "data": {
      "text/html": [
       "<div>\n",
       "<style scoped>\n",
       "    .dataframe tbody tr th:only-of-type {\n",
       "        vertical-align: middle;\n",
       "    }\n",
       "\n",
       "    .dataframe tbody tr th {\n",
       "        vertical-align: top;\n",
       "    }\n",
       "\n",
       "    .dataframe thead th {\n",
       "        text-align: right;\n",
       "    }\n",
       "</style>\n",
       "<table border=\"1\" class=\"dataframe\">\n",
       "  <thead>\n",
       "    <tr style=\"text-align: right;\">\n",
       "      <th></th>\n",
       "      <th>Riskless</th>\n",
       "      <th>Riskfull</th>\n",
       "      <th>ExpectReturn</th>\n",
       "      <th>SharpeRatio</th>\n",
       "    </tr>\n",
       "  </thead>\n",
       "  <tbody>\n",
       "    <tr>\n",
       "      <th>MMM</th>\n",
       "      <td>4.614375e-01</td>\n",
       "      <td>6.106227e-16</td>\n",
       "      <td>0.000000e+00</td>\n",
       "      <td>0.064754</td>\n",
       "    </tr>\n",
       "    <tr>\n",
       "      <th>AXP</th>\n",
       "      <td>6.364954e-02</td>\n",
       "      <td>1.609823e-15</td>\n",
       "      <td>4.102545e-17</td>\n",
       "      <td>0.099038</td>\n",
       "    </tr>\n",
       "    <tr>\n",
       "      <th>AMGN</th>\n",
       "      <td>3.105590e-01</td>\n",
       "      <td>3.330669e-16</td>\n",
       "      <td>1.966245e-01</td>\n",
       "      <td>0.024308</td>\n",
       "    </tr>\n",
       "    <tr>\n",
       "      <th>AAPL</th>\n",
       "      <td>1.643539e-01</td>\n",
       "      <td>1.000000e+00</td>\n",
       "      <td>8.033755e-01</td>\n",
       "      <td>0.787037</td>\n",
       "    </tr>\n",
       "    <tr>\n",
       "      <th>BA</th>\n",
       "      <td>3.469447e-18</td>\n",
       "      <td>5.134781e-16</td>\n",
       "      <td>0.000000e+00</td>\n",
       "      <td>0.024863</td>\n",
       "    </tr>\n",
       "  </tbody>\n",
       "</table>\n",
       "</div>"
      ],
      "text/plain": [
       "          Riskless      Riskfull  ExpectReturn  SharpeRatio\n",
       "MMM   4.614375e-01  6.106227e-16  0.000000e+00     0.064754\n",
       "AXP   6.364954e-02  1.609823e-15  4.102545e-17     0.099038\n",
       "AMGN  3.105590e-01  3.330669e-16  1.966245e-01     0.024308\n",
       "AAPL  1.643539e-01  1.000000e+00  8.033755e-01     0.787037\n",
       "BA    3.469447e-18  5.134781e-16  0.000000e+00     0.024863"
      ]
     },
     "execution_count": 55,
     "metadata": {},
     "output_type": "execute_result"
    }
   ],
   "source": [
    "optimal_weights = pd.DataFrame()\n",
    "\n",
    "optimal_weights = pd.concat([pd.Series(riskless_weights), pd.Series(risk_tol_weights), pd.Series(sharpe_ratio_weights), pd.Series(expect_return_weights)], axis=1)\n",
    "optimal_weights.index = [asset.name for asset in portfolio.assets]\n",
    "optimal_weights.columns = ['Riskless', 'Riskfull', \"ExpectReturn\", \"SharpeRatio\"]\n",
    "\n",
    "optimal_weights"
   ]
  },
  {
   "cell_type": "markdown",
   "id": "8bb3acba",
   "metadata": {},
   "source": [
    "# Plot Efficient Frontier"
   ]
  },
  {
   "cell_type": "code",
   "execution_count": 58,
   "id": "f28483dd",
   "metadata": {
    "scrolled": true
   },
   "outputs": [
    {
     "data": {
      "image/png": "[encoded data removed]",
      "text/plain": [
       "<Figure size 432x288 with 1 Axes>"
      ]
     },
     "metadata": {},
     "output_type": "display_data"
    }
   ],
   "source": [
    "plt.plot(riskless_optimise_volatility, riskless_optimise_expected_return, 'm+', markeredgewidth=5, markersize=20, label='optimise_with_risk_tolerance(0)')\n",
    "plt.plot(risk_tol_optimise_volatility, risk_tol_optimise_expected_return, 'r+', markeredgewidth=5, markersize=20, label='optimise_with_risk_tolerance(20)')\n",
    "plt.plot(expect_return_optimise_volatility, expect_return_optimise_expected_return, 'g+', markeredgewidth=5, markersize=20, label='optimise_with_expected_return(0.25)')\n",
    "plt.plot(sharpe_ratio_optimise_volatility, sharpe_ratio_optimise_expected_return, 'y+', markeredgewidth=5, markersize=20, label='optimise_sharpe_ratio()')\n",
    "plt.scatter(stds, returns, s=4)\n",
    "plt.plot(X, y, color='k', linewidth=3, label='Efficient frontier')\n",
    "\n",
    "plt.title(\"Efficient  Frontier\")\n",
    "plt.xlabel(\"Portfolio Volatility\")\n",
    "plt.ylabel(\"Portfolio Returns\")\n",
    "plt.legend(loc=\"lower right\")\n",
    "plt.show()"
   ]
  },
  {
   "cell_type": "markdown",
   "id": "7032827f",
   "metadata": {},
   "source": [
    "# Test: If 1000 USD invested last year then how much return would i get?"
   ]
  },
  {
   "cell_type": "code",
   "execution_count": 126,
   "id": "2b9c61fc",
   "metadata": {},
   "outputs": [
    {
     "name": "stdout",
     "output_type": "stream",
     "text": [
      "--------------------------------------------------------------------------------\n",
      "                          Expected Returns on Potfolio                          \n",
      "--------------------------------------------------------------------------------\n",
      "                   Return\n",
      "Riskless      1118.845600\n",
      "Riskfull      1255.532891\n",
      "ExpectReturn  1220.630221\n",
      "SharpeRatio   1230.527907\n",
      "\n",
      "If 1000 USD was invested on 2788| I would have ...\n",
      "--------------------------------------------------------------------------------\n",
      "Using the Portfolio Weights for Risk Tolerance 0 (Riskless)\n",
      "\n",
      "        Starting balance 1000 USD : Ending with 1044.08 USD\n",
      "\n",
      "--------------------------------------------------------------------------------\n",
      "Using the Portfolio Weights for Risk Tolerance 20\n",
      "\n",
      "        Starting balance 1000 USD : Ending with 1207.17 USD\n",
      "\n",
      "--------------------------------------------------------------------------------\n",
      "Using the Portfolio Weights for Expect to Return 0.25%\n",
      "\n",
      "        Starting balance 1000 USD : Ending with 1153.92 USD\n",
      "\n",
      "--------------------------------------------------------------------------------\n",
      "Using the Portfolio Weights for Sharpe Ratio\n",
      "\n",
      "        Starting balance 1000 USD : Ending with 1211.76 USD\n",
      "\n"
     ]
    }
   ],
   "source": [
    "amount_invest = 1000\n",
    "expected_return = pd.DataFrame(amount_invest * (1 + volatility_returns_df.iloc[0,:] ))\n",
    "print(\"--------------------------------------------------------------------------------\")\n",
    "print(\"                          Expected Returns on Potfolio                          \")\n",
    "print(\"--------------------------------------------------------------------------------\")\n",
    "print(expected_return)\n",
    "print(\"\")\n",
    "print(f\"If {amount_invest} USD was invested on {data_test[0].iloc[0,0]}| I would have ...\")\n",
    "actual_return = (data_test.iloc[data_test.shape[0]-1,:] - data_test.iloc[0,:])/data_test.iloc[0,:]\n",
    "beg_price = data_test.iloc[0,:]\n",
    "end_price = data_test.iloc[data_test.shape[0]-1,:]\n",
    "percentage_change = (end_price - beg_price)/(beg_price) + 1\n",
    "\n",
    "print(\"--------------------------------------------------------------------------------\")\n",
    "w = optimal_weights.iloc[:,0]\n",
    "print(f\"Using the Portfolio Weights for Risk Tolerance {0} (Riskless)\")\n",
    "money_left = sum(w*percentage_change*amount_invest)\n",
    "print(\"\")\n",
    "print(f\"        Starting balance {amount_invest} USD : Ending with {round(money_left,2)} USD\")\n",
    "print(\"\")\n",
    "\n",
    "print(\"--------------------------------------------------------------------------------\")\n",
    "w = optimal_weights.iloc[:,1]\n",
    "print(f\"Using the Portfolio Weights for Risk Tolerance {RISK_TOLERANCE}\")\n",
    "money_left = sum(w*percentage_change*amount_invest)\n",
    "print(\"\")\n",
    "print(f\"        Starting balance {amount_invest} USD : Ending with {round(money_left,2)} USD\")\n",
    "print(\"\")\n",
    "\n",
    "\n",
    "print(\"--------------------------------------------------------------------------------\")\n",
    "w = optimal_weights.iloc[:,2]\n",
    "print(f\"Using the Portfolio Weights for Expect to Return {EXPECTED_RETURN}%\")\n",
    "money_left = sum(w*percentage_change*amount_invest)\n",
    "print(\"\")\n",
    "print(f\"        Starting balance {amount_invest} USD : Ending with {round(money_left,2)} USD\")\n",
    "print(\"\")\n",
    "\n",
    "\n",
    "print(\"--------------------------------------------------------------------------------\")\n",
    "w = optimal_weights.iloc[:,3]\n",
    "print(f\"Using the Portfolio Weights for Sharpe Ratio\")\n",
    "money_left = sum(w*percentage_change*amount_invest)\n",
    "print(\"\")\n",
    "print(f\"        Starting balance {amount_invest} USD : Ending with {round(money_left,2)} USD\")\n",
    "print(\"\")\n",
    "\n"
   ]
  },
  {
   "cell_type": "code",
   "execution_count": null,
   "id": "43409c51",
   "metadata": {},
   "outputs": [],
   "source": []
  },
  {
   "cell_type": "code",
   "execution_count": null,
   "id": "d02c587b",
   "metadata": {},
   "outputs": [],
   "source": []
  },
  {
   "cell_type": "code",
   "execution_count": null,
   "id": "4f33b069",
   "metadata": {},
   "outputs": [],
   "source": []
  }
 ],
 "metadata": {
  "kernelspec": {
   "display_name": "Python 3 (ipykernel)",
   "language": "python",
   "name": "python3"
  },
  "language_info": {
   "codemirror_mode": {
    "name": "ipython",
    "version": 3
   },
   "file_extension": ".py",
   "mimetype": "text/x-python",
   "name": "python",
   "nbconvert_exporter": "python",
   "pygments_lexer": "ipython3",
   "version": "3.8.5"
  }
 },
 "nbformat": 4,
 "nbformat_minor": 5
}
