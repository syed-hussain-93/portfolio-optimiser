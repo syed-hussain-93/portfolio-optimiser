{
 "cells": [
  {
   "cell_type": "markdown",
   "id": "9518a7dd",
   "metadata": {},
   "source": [
    "# Porftolio Optimiser\n",
    "\n",
    "## Description\n",
    "This program attempts to optimise a users portfolio using the Efficient Frontier. \n",
    "\n",
    "## Goal\n",
    "Create portfolio of assets for which investment has maximum return for given risk level (ideally minimum) OR create portfolio that offers lowest risk for given expected return.\n",
    "\n",
    "## Theory\n",
    "Modern portfolio theory (MPT) is a model to creating a portfolio that aims to maximise the return for a given amount of risk. \n",
    "\n",
    "MPT encourages diversification of assets. Consider a portfolio of assets, {A, B, C} where the three assets are 'diverse'. If the three assets have little to zero correlation then we can have a portfolio with low variance on returns. \n",
    "\n",
    "Efficient Frontier is a graph of 'Expected returns' versues 'Volatility'. Points inside graph show set of optimal portfolios of expected returns for given risk (measured as volatility) or risk given expected returns. Points outside line are sub-optimal. \n",
    "\n",
    "### Assumptions\n",
    "1. Asset Returns are (Jointly) Normally Distributed Random Variables\n",
    "2. Correlations between Assets are Fixed and Constant Forever\n",
    "3. All Investors Aim to Maximize Economic Utility\n",
    "4. All Investors are Rational and Risk Averse\n",
    "5. All Investors have Access to the Same Information at the Same Time\n",
    "6. All Investors have Access to the Same Information at the Same Time\n",
    "7. There are no Taxes or Transaction Costs\n",
    "8. Investors are Price Takers\n",
    "9. Every Investor has a Credit Limit\n",
    "10. All Securities can be Divided into Parcels of Any Size\n",
    "\n",
    "### Basics of the model\n",
    "\n",
    "\n",
    "\n",
    "### 1. Portfolio Expected Return\n",
    "\n",
    "Each asset in portfolio is weighted i.e. the proportion the asset makes up the portfolio. To calculate expected return of the porfolio we multiply weights of each asset by the expected returns of each asset, and sum.\n",
    "\n",
    "\n",
    "### 2. Portfolio Standard deviation (volatility)\n",
    "\n",
    "Calculate the annual covariance matrix and take the inner product with the weights. \n",
    "\n",
    "### 3. Sharpe Ratio\n",
    "\n",
    "Sharpe ratio measures the return of an investment in relation to the risk-free rate and its risk profile.\n",
    "\n",
    "In general, higher value of Sharpe ratio the better and lucractive the investement. \n",
    "\n",
    "### 4. Efficient Frontier\n",
    "\n",
    "Plot of 'Expected return' vs 'Volatility'\n",
    "\n",
    "\n"
   ]
  },
  {
   "cell_type": "markdown",
   "id": "44c59122",
   "metadata": {},
   "source": [
    "# Import Packages"
   ]
  },
  {
   "cell_type": "code",
   "execution_count": 1,
   "id": "cb3d028a",
   "metadata": {},
   "outputs": [
    {
     "name": "stdout",
     "output_type": "stream",
     "text": [
      "/Users/syed/Desktop/ideal-stock-portfolio/src\n"
     ]
    }
   ],
   "source": [
    "cd ../src"
   ]
  },
  {
   "cell_type": "code",
   "execution_count": 2,
   "id": "037b5897",
   "metadata": {},
   "outputs": [],
   "source": [
    "import numpy as np\n",
    "import pandas as pd\n",
    "import yfinance as yf\n",
    "\n",
    "from assets_class import Asset\n",
    "from portfolio_class import Portfolio\n",
    "from datetime import datetime\n",
    "\n",
    "%load_ext autoreload\n",
    "%autoreload 2"
   ]
  },
  {
   "cell_type": "markdown",
   "id": "8272bf8e",
   "metadata": {},
   "source": [
    "# Download data"
   ]
  },
  {
   "cell_type": "code",
   "execution_count": 3,
   "id": "1a0de7bf",
   "metadata": {},
   "outputs": [],
   "source": [
    "def yf_retrieve_data(ticker_list,date_range):\n",
    "    data_frames = []\n",
    "    for ticker in ticker_list:\n",
    "        data = yf.download(ticker, start=date_range[0], end=date_range[1])\n",
    "        data_frames.append(data)\n",
    "    return data_frames"
   ]
  },
  {
   "cell_type": "code",
   "execution_count": 4,
   "id": "cbe7126a",
   "metadata": {},
   "outputs": [
    {
     "name": "stdout",
     "output_type": "stream",
     "text": [
      "[*********************100%***********************]  1 of 1 completed\n",
      "[*********************100%***********************]  1 of 1 completed\n",
      "[*********************100%***********************]  1 of 1 completed\n",
      "[*********************100%***********************]  1 of 1 completed\n",
      "[*********************100%***********************]  1 of 1 completed\n"
     ]
    }
   ],
   "source": [
    "ticker_list = [\"AAPL\", \"FB\", \"AMZN\", \"NFLX\", \"GOOG\"]\n",
    "date_range = (\"2010-12-01\", \"2022-01-01\")\n",
    "data = yf_retrieve_data(ticker_list, date_range)\n"
   ]
  },
  {
   "cell_type": "markdown",
   "id": "13157af3",
   "metadata": {},
   "source": [
    "# Create training and test data \n",
    "Split data up to see how well the optimiser works for the last year. We will use all years until the last year to train the optimiser and test the optimised weights for the last year"
   ]
  },
  {
   "cell_type": "code",
   "execution_count": 7,
   "id": "b8fbc7fc",
   "metadata": {},
   "outputs": [],
   "source": [
    "# save the recent year seperately \n",
    "data_test = [d.iloc[d.shape[0] - 250:, :] for d in data]\n",
    "# update data we will use\n",
    "data = [d.iloc[:d.shape[0] - 250, :] for d in data]"
   ]
  },
  {
   "cell_type": "markdown",
   "id": "ff91ead1",
   "metadata": {},
   "source": [
    "# Create portfolio"
   ]
  },
  {
   "cell_type": "code",
   "execution_count": 8,
   "id": "3f45a6c3",
   "metadata": {},
   "outputs": [],
   "source": [
    "portfolio = Portfolio([Asset({\"name\": ticker, \"data\": data[i] }) for i,ticker in enumerate(ticker_list) ])\n"
   ]
  },
  {
   "cell_type": "markdown",
   "id": "1fd48e53",
   "metadata": {},
   "source": [
    "# Optimise Portolfio "
   ]
  },
  {
   "cell_type": "code",
   "execution_count": 9,
   "id": "89124998",
   "metadata": {},
   "outputs": [],
   "source": [
    "import matplotlib.pyplot as plt\n",
    "plt.style.use('fivethirtyeight')"
   ]
  },
  {
   "cell_type": "code",
   "execution_count": 10,
   "id": "df1b4008",
   "metadata": {},
   "outputs": [],
   "source": [
    "returns, stds, weights = portfolio.monte_carlo()"
   ]
  },
  {
   "cell_type": "code",
   "execution_count": 11,
   "id": "84bef2ca",
   "metadata": {},
   "outputs": [],
   "source": [
    "# Drawing the efficient frontier\n",
    "X = []\n",
    "y = []\n",
    "for rt in np.linspace(-100, 200, 500):\n",
    "    weights = portfolio.optimise_with_risk_tolerance(rt)\n",
    "    X.append(portfolio.portfolio_std)\n",
    "    y.append(portfolio.portfolio_expected_return)"
   ]
  },
  {
   "cell_type": "code",
   "execution_count": 27,
   "id": "4e1b1711",
   "metadata": {},
   "outputs": [],
   "source": [
    "RISK_TOLERANCE = 20;\n",
    "EXPECTED_RETURN = 0.25\n",
    "\n",
    "\n",
    "portfolio.optimise_with_risk_tolerance(0)\n",
    "\n",
    "riskless_optimise_volatility = portfolio.portfolio_std\n",
    "riskless_optimise_expected_return = portfolio.portfolio_expected_return\n",
    "riskless_weights = portfolio.weights\n",
    "\n",
    "\n",
    "\n",
    "portfolio.optimise_with_risk_tolerance(risk_tolerance=RISK_TOLERANCE)\n",
    "risk_tol_optimise_volatility = portfolio.portfolio_std\n",
    "risk_tol_optimise_expected_return = portfolio.portfolio_expected_return\n",
    "risk_tol_weights = portfolio.weights\n",
    "\n",
    "\n",
    "portfolio.optimise_with_expected_return(expected_return=EXPECTED_RETURN)\n",
    "expect_return_optimise_volatility = portfolio.portfolio_std\n",
    "expect_return_optimise_expected_return = portfolio.portfolio_expected_return\n",
    "expect_return_weights = portfolio.weights\n",
    "\n",
    "\n",
    "\n",
    "portfolio.optimise_sharpe_ratio()\n",
    "sharpe__ratio_optimise_volatility = portfolio.portfolio_std\n",
    "sharpe_ratio_optimise_expected_return = portfolio.portfolio_expected_return\n",
    "sharpe_ratio_weights = portfolio.weights"
   ]
  },
  {
   "cell_type": "markdown",
   "id": "39f796e7",
   "metadata": {},
   "source": [
    "# Returns and Volatility Data Frame"
   ]
  },
  {
   "cell_type": "code",
   "execution_count": 26,
   "id": "5b2ca479",
   "metadata": {},
   "outputs": [
    {
     "data": {
      "text/html": [
       "<div>\n",
       "<style scoped>\n",
       "    .dataframe tbody tr th:only-of-type {\n",
       "        vertical-align: middle;\n",
       "    }\n",
       "\n",
       "    .dataframe tbody tr th {\n",
       "        vertical-align: top;\n",
       "    }\n",
       "\n",
       "    .dataframe thead th {\n",
       "        text-align: right;\n",
       "    }\n",
       "</style>\n",
       "<table border=\"1\" class=\"dataframe\">\n",
       "  <thead>\n",
       "    <tr style=\"text-align: right;\">\n",
       "      <th></th>\n",
       "      <th>Riskless</th>\n",
       "      <th>Riskfull</th>\n",
       "      <th>ExpectReturn</th>\n",
       "      <th>SharpeRatio</th>\n",
       "    </tr>\n",
       "  </thead>\n",
       "  <tbody>\n",
       "    <tr>\n",
       "      <th>Return</th>\n",
       "      <td>0.231793</td>\n",
       "      <td>0.451776</td>\n",
       "      <td>0.289546</td>\n",
       "      <td>0.329499</td>\n",
       "    </tr>\n",
       "    <tr>\n",
       "      <th>Volatility</th>\n",
       "      <td>0.226969</td>\n",
       "      <td>0.467613</td>\n",
       "      <td>0.250000</td>\n",
       "      <td>0.271803</td>\n",
       "    </tr>\n",
       "  </tbody>\n",
       "</table>\n",
       "</div>"
      ],
      "text/plain": [
       "            Riskless  Riskfull  ExpectReturn  SharpeRatio\n",
       "Return      0.231793  0.451776      0.289546     0.329499\n",
       "Volatility  0.226969  0.467613      0.250000     0.271803"
      ]
     },
     "execution_count": 26,
     "metadata": {},
     "output_type": "execute_result"
    }
   ],
   "source": [
    "volatility_returns_df = pd.DataFrame.from_dict(\n",
    "    {\n",
    "        \"Return\": [\n",
    "    riskless_optimise_expected_return,risk_tol_optimise_expected_return, \n",
    "    expect_return_optimise_expected_return,sharpe_ratio_optimise_expected_return\n",
    "        ], \n",
    "        \"Volatility\": [\n",
    "            riskless_optimise_volatility, risk_tol_optimise_volatility,\n",
    "            expect_return_optimise_volatility, sharpe__ratio_optimise_volatility\n",
    "        ]\n",
    "    }, orient=\"index\", columns=['Riskless', 'Riskfull', \"ExpectReturn\", \"SharpeRatio\"]\n",
    "\n",
    ")\n",
    "\n",
    "\n",
    "\n",
    "volatility_returns_df\n",
    "\n"
   ]
  },
  {
   "cell_type": "markdown",
   "id": "e42be3de",
   "metadata": {},
   "source": [
    "# Optimal weights data frame"
   ]
  },
  {
   "cell_type": "code",
   "execution_count": 29,
   "id": "d95cbea6",
   "metadata": {},
   "outputs": [
    {
     "data": {
      "text/html": [
       "<div>\n",
       "<style scoped>\n",
       "    .dataframe tbody tr th:only-of-type {\n",
       "        vertical-align: middle;\n",
       "    }\n",
       "\n",
       "    .dataframe tbody tr th {\n",
       "        vertical-align: top;\n",
       "    }\n",
       "\n",
       "    .dataframe thead th {\n",
       "        text-align: right;\n",
       "    }\n",
       "</style>\n",
       "<table border=\"1\" class=\"dataframe\">\n",
       "  <thead>\n",
       "    <tr style=\"text-align: right;\">\n",
       "      <th></th>\n",
       "      <th>Riskless</th>\n",
       "      <th>Riskfull</th>\n",
       "      <th>ExpectReturn</th>\n",
       "      <th>SharpeRatio</th>\n",
       "    </tr>\n",
       "  </thead>\n",
       "  <tbody>\n",
       "    <tr>\n",
       "      <th>AAPL</th>\n",
       "      <td>0.304733</td>\n",
       "      <td>0.000000e+00</td>\n",
       "      <td>0.250463</td>\n",
       "      <td>0.149594</td>\n",
       "    </tr>\n",
       "    <tr>\n",
       "      <th>FB</th>\n",
       "      <td>0.059251</td>\n",
       "      <td>0.000000e+00</td>\n",
       "      <td>0.008023</td>\n",
       "      <td>0.385975</td>\n",
       "    </tr>\n",
       "    <tr>\n",
       "      <th>AMZN</th>\n",
       "      <td>0.154612</td>\n",
       "      <td>8.604228e-16</td>\n",
       "      <td>0.444330</td>\n",
       "      <td>0.174524</td>\n",
       "    </tr>\n",
       "    <tr>\n",
       "      <th>NFLX</th>\n",
       "      <td>0.027883</td>\n",
       "      <td>1.000000e+00</td>\n",
       "      <td>0.297185</td>\n",
       "      <td>0.007037</td>\n",
       "    </tr>\n",
       "    <tr>\n",
       "      <th>GOOG</th>\n",
       "      <td>0.453521</td>\n",
       "      <td>0.000000e+00</td>\n",
       "      <td>0.000000</td>\n",
       "      <td>0.282871</td>\n",
       "    </tr>\n",
       "  </tbody>\n",
       "</table>\n",
       "</div>"
      ],
      "text/plain": [
       "      Riskless      Riskfull  ExpectReturn  SharpeRatio\n",
       "AAPL  0.304733  0.000000e+00      0.250463     0.149594\n",
       "FB    0.059251  0.000000e+00      0.008023     0.385975\n",
       "AMZN  0.154612  8.604228e-16      0.444330     0.174524\n",
       "NFLX  0.027883  1.000000e+00      0.297185     0.007037\n",
       "GOOG  0.453521  0.000000e+00      0.000000     0.282871"
      ]
     },
     "execution_count": 29,
     "metadata": {},
     "output_type": "execute_result"
    }
   ],
   "source": [
    "optimal_weights = pd.DataFrame()\n",
    "\n",
    "optimal_weights = pd.concat([pd.Series(riskless_weights), pd.Series(risk_tol_weights), pd.Series(sharpe_ratio_weights), pd.Series(exp_return_weights)], axis=1)\n",
    "optimal_weights.index = [asset.name for asset in portfolio.assets]\n",
    "optimal_weights.columns = ['Riskless', 'Riskfull', \"ExpectReturn\", \"SharpeRatio\"]\n",
    "\n",
    "optimal_weights"
   ]
  },
  {
   "cell_type": "markdown",
   "id": "4eb91dd7",
   "metadata": {},
   "source": [
    "# Plot Efficient Frontier"
   ]
  },
  {
   "cell_type": "code",
   "execution_count": 18,
   "id": "f28483dd",
   "metadata": {
    "scrolled": true
   },
   "outputs": [
    {
     "data": {
      "image/png": "[encoded data removed]",
      "text/plain": [
       "<Figure size 432x288 with 1 Axes>"
      ]
     },
     "metadata": {},
     "output_type": "display_data"
    }
   ],
   "source": [
    "\n",
    "portfolio.optimise_with_risk_tolerance(0)\n",
    "plt.plot(portfolio.portfolio_std, portfolio.portfolio_expected_return, 'm+', markeredgewidth=5, markersize=20, label='optimise_with_risk_tolerance(0)')\n",
    "\n",
    "\n",
    "portfolio.optimise_with_risk_tolerance(risk_tolerance=RISK_TOLERANCE)\n",
    "plt.plot(portfolio.portfolio_std, portfolio.portfolio_expected_return, 'r+', markeredgewidth=5, markersize=20, label='optimise_with_risk_tolerance(20)')\n",
    "\n",
    "portfolio.optimise_with_expected_return(expected_return=EXPECTED_RETURN)\n",
    "plt.plot(portfolio.portfolio_std, portfolio.portfolio_expected_return, 'g+', markeredgewidth=5, markersize=20, label='optimise_with_expected_return(0.25)')\n",
    "\n",
    "portfolio.optimise_sharpe_ratio()\n",
    "plt.plot(portfolio.portfolio_std, portfolio.portfolio_expected_return, 'y+', markeredgewidth=5, markersize=20, label='optimise_sharpe_ratio()')\n",
    "\n",
    "\n",
    "plt.scatter(stds, returns, s=4)\n",
    "plt.plot(X, y, color='k', linewidth=3, label='Efficient frontier')\n",
    "plt.title(\"Efficient  Frontier\")\n",
    "plt.xlabel(\"Portfolio Volatility\")\n",
    "plt.ylabel(\"Portfolio Returns\")\n",
    "plt.legend(loc=\"lower right\")\n",
    "plt.show()"
   ]
  },
  {
   "cell_type": "markdown",
   "id": "c7f19f8a",
   "metadata": {},
   "source": [
    "# Test: If 1000 USD invested last year then how much return would i get?"
   ]
  },
  {
   "cell_type": "code",
   "execution_count": 32,
   "id": "2b9c61fc",
   "metadata": {},
   "outputs": [
    {
     "name": "stdout",
     "output_type": "stream",
     "text": [
      "--------------------------------------------------------------------------------\n",
      "                          Expected Returns on Potfolio                          \n",
      "--------------------------------------------------------------------------------\n",
      "                   Return\n",
      "Riskless      1231.792674\n",
      "Riskfull      1451.775642\n",
      "ExpectReturn  1289.546106\n",
      "SharpeRatio   1329.498552\n"
     ]
    }
   ],
   "source": [
    "amount_invest = 1000\n",
    "expected_return = pd.DataFrame(amount_invest * (1 + volatility_returns_df.iloc[0,:] ))\n",
    "print(\"--------------------------------------------------------------------------------\")\n",
    "print(\"                          Expected Returns on Potfolio                          \")\n",
    "print(\"--------------------------------------------------------------------------------\")\n",
    "print(expected_return)\n",
    "print(f\"If {amount_invest} USD was invested on {data_test.index[0]}| I would have ...\")\n",
    "actual_return = (data_test.iloc[data_test.shape[0]-1,:] - data_test.iloc[0,:])/data_test.[0,:]\n",
    "beg_price = data_test[0,:]\n",
    "end_price = data_test.iloc[data_test.shape[0]-1,:]\n",
    "percentage_change = (end_price - beg_price)/(beg_price) + 1\n",
    "\n",
    "print(\"--------------------------------------------------------------------------------\")\n",
    "w = optimal_weights.iloc[:,0]\n",
    "print(\"Using the Portfolio Weights for Riskless\")\n",
    "money_left = sum(w*percentage_change*amount_invest)\n",
    "print(\"\")\n",
    "print(f\"        Staring balance {amount_invest} USD : Ending with {round(money_left,2)}\")\n",
    "print(\"\")\n",
    "\n",
    "print(\"--------------------------------------------------------------------------------\")\n",
    "w = optimal_weights.iloc[:,2]\n",
    "print(f\"Using the Portfolio Weights for Risk Tolerance {RISK_TOLERANCE}\")\n",
    "money_left = sum(w*percentage_change*amount_invest)\n",
    "print(\"\")\n",
    "print(f\"        Staring balance {amount_invest} USD : Ending with {round(money_left,2)}\")\n",
    "print(\"\")\n",
    "\n",
    "\n",
    "\n"
   ]
  },
  {
   "cell_type": "code",
   "execution_count": null,
   "id": "2ef12ae5",
   "metadata": {},
   "outputs": [],
   "source": []
  },
  {
   "cell_type": "code",
   "execution_count": null,
   "id": "eba4790e",
   "metadata": {},
   "outputs": [],
   "source": []
  },
  {
   "cell_type": "code",
   "execution_count": null,
   "id": "43409c51",
   "metadata": {},
   "outputs": [],
   "source": []
  },
  {
   "cell_type": "code",
   "execution_count": null,
   "id": "d02c587b",
   "metadata": {},
   "outputs": [],
   "source": []
  },
  {
   "cell_type": "code",
   "execution_count": null,
   "id": "4f33b069",
   "metadata": {},
   "outputs": [],
   "source": []
  }
 ],
 "metadata": {
  "kernelspec": {
   "display_name": "Python 3 (ipykernel)",
   "language": "python",
   "name": "python3"
  },
  "language_info": {
   "codemirror_mode": {
    "name": "ipython",
    "version": 3
   },
   "file_extension": ".py",
   "mimetype": "text/x-python",
   "name": "python",
   "nbconvert_exporter": "python",
   "pygments_lexer": "ipython3",
   "version": "3.8.5"
  }
 },
 "nbformat": 4,
 "nbformat_minor": 5
}
