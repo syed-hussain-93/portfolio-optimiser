{
 "cells": [
  {
   "cell_type": "markdown",
   "id": "b6c01410",
   "metadata": {},
   "source": [
    "We will download financial data for all stocks available on the Dow Jones Index and store to a database\n"
   ]
  },
  {
   "cell_type": "code",
   "execution_count": 1,
   "id": "f04e11ed",
   "metadata": {},
   "outputs": [
    {
     "name": "stdout",
     "output_type": "stream",
     "text": [
      "/Users/syed/Desktop/ideal-stock-portfolio/src\n"
     ]
    }
   ],
   "source": [
    "cd ../src/"
   ]
  },
  {
   "cell_type": "code",
   "execution_count": 2,
   "id": "b2bffdbf",
   "metadata": {},
   "outputs": [],
   "source": [
    "import pandas as pd\n",
    "import yfinance as yf\n",
    "\n",
    "from database_setup_class import Database\n",
    "%load_ext autoreload\n",
    "%autoreload 2"
   ]
  },
  {
   "cell_type": "code",
   "execution_count": 3,
   "id": "b5eb64e2",
   "metadata": {},
   "outputs": [],
   "source": [
    "def get_ticker_symbols(index):\n",
    "    # Hard code to get the list of ticker symbols for a few indices\n",
    "    # Indices will be using\n",
    "    # DowJones (DJIA), NIFTY50\n",
    "\n",
    "    if index == \"DJIA\":\n",
    "        ticker_list = pd.read_html(\n",
    "            f\"https://en.wikipedia.org/wiki/Dow_Jones_Industrial_Average\"\n",
    "        )[1][\"Symbol\"].to_list()\n",
    "\n",
    "    elif index == \"NIFTY50\":\n",
    "        ticker_list = pd.read_html(\"https://en.wikipedia.org/wiki/NIFTY_50\")[1][\n",
    "            \"Symbol\"\n",
    "        ].to_list()\n",
    "        ticker_list = [f\"{ticker}.NS\" for ticker in ticker_list]\n",
    "\n",
    "    return ticker_list"
   ]
  },
  {
   "cell_type": "code",
   "execution_count": 4,
   "id": "b513415b",
   "metadata": {},
   "outputs": [],
   "source": [
    "date_range = ['2010-01-01', '2022-01-01']"
   ]
  },
  {
   "cell_type": "code",
   "execution_count": 5,
   "id": "0a4f94ea",
   "metadata": {},
   "outputs": [],
   "source": [
    "ticker_list = get_ticker_symbols('DJIA') "
   ]
  },
  {
   "cell_type": "code",
   "execution_count": 6,
   "id": "eed36a02",
   "metadata": {},
   "outputs": [],
   "source": [
    "test = Database('test')\n"
   ]
  },
  {
   "cell_type": "code",
   "execution_count": 7,
   "id": "0723121d",
   "metadata": {},
   "outputs": [
    {
     "ename": "AttributeError",
     "evalue": "'Database' object has no attribute 'download_and_add_stock_data_to_database'",
     "output_type": "error",
     "traceback": [
      "\u001b[0;31m---------------------------------------------------------------------------\u001b[0m",
      "\u001b[0;31mAttributeError\u001b[0m                            Traceback (most recent call last)",
      "Input \u001b[0;32mIn [7]\u001b[0m, in \u001b[0;36m<module>\u001b[0;34m\u001b[0m\n\u001b[0;32m----> 1\u001b[0m \u001b[43mtest\u001b[49m\u001b[38;5;241;43m.\u001b[39;49m\u001b[43mdownload_and_add_stock_data_to_database\u001b[49m(\n\u001b[1;32m      2\u001b[0m     ticker_list, start\u001b[38;5;241m=\u001b[39m date_range[\u001b[38;5;241m0\u001b[39m], end\u001b[38;5;241m=\u001b[39mdate_range[\u001b[38;5;241m1\u001b[39m]\n\u001b[1;32m      3\u001b[0m )\n",
      "\u001b[0;31mAttributeError\u001b[0m: 'Database' object has no attribute 'download_and_add_stock_data_to_database'"
     ]
    }
   ],
   "source": [
    "test.add_stock_to_database(\n",
    "    ticker_list, start= date_range[0], end=date_range[1]\n",
    ")"
   ]
  },
  {
   "cell_type": "code",
   "execution_count": null,
   "id": "a0b68179",
   "metadata": {},
   "outputs": [],
   "source": []
  }
 ],
 "metadata": {
  "kernelspec": {
   "display_name": "Python 3 (ipykernel)",
   "language": "python",
   "name": "python3"
  },
  "language_info": {
   "codemirror_mode": {
    "name": "ipython",
    "version": 3
   },
   "file_extension": ".py",
   "mimetype": "text/x-python",
   "name": "python",
   "nbconvert_exporter": "python",
   "pygments_lexer": "ipython3",
   "version": "3.8.5"
  }
 },
 "nbformat": 4,
 "nbformat_minor": 5
}
