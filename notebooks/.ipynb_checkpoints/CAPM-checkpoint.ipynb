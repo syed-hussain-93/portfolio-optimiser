{
 "cells": [
  {
   "cell_type": "code",
   "execution_count": 1,
   "id": "c1230bb0",
   "metadata": {},
   "outputs": [
    {
     "name": "stdout",
     "output_type": "stream",
     "text": [
      "/Users/syed/Desktop/ideal-stock-portfolio/src\n"
     ]
    }
   ],
   "source": [
    "cd ../src/"
   ]
  },
  {
   "cell_type": "code",
   "execution_count": 2,
   "id": "ddec0209",
   "metadata": {},
   "outputs": [],
   "source": [
    "import sqlalchemy\n",
    "import pandas as pd\n",
    "import numpy as np\n",
    "import yfinance as yf\n",
    "import pandas_datareader as reader\n",
    "\n",
    "from database_setup_class import Database\n",
    "from portfolio_class import Portfolio\n",
    "from assets_class import Asset\n",
    "\n",
    "import statsmodels.api as sm\n",
    "%load_ext autoreload\n",
    "%autoreload 2"
   ]
  },
  {
   "cell_type": "code",
   "execution_count": 3,
   "id": "bbdd3816",
   "metadata": {},
   "outputs": [],
   "source": [
    "def yf_retrieve_data(ticker_list,date_range):\n",
    "    data_frames = []\n",
    "    for ticker in ticker_list:\n",
    "        data = yf.download(ticker, start=date_range[0], end=date_range[1])\n",
    "        data_frames.append(data)\n",
    "    return data_frames"
   ]
  },
  {
   "cell_type": "code",
   "execution_count": 4,
   "id": "7914135b",
   "metadata": {},
   "outputs": [
    {
     "name": "stdout",
     "output_type": "stream",
     "text": [
      "[*********************100%***********************]  1 of 1 completed\n"
     ]
    }
   ],
   "source": [
    "date_range = ['2010-01-01', '2022-01-19']\n",
    "data = yf_retrieve_data(['^GSPC'], date_range)"
   ]
  },
  {
   "cell_type": "code",
   "execution_count": 5,
   "id": "218133ad",
   "metadata": {},
   "outputs": [],
   "source": [
    "market_data = data[0].reset_index()\n",
    "market_data = market_data['Close'].pct_change().apply(lambda x: np.log(1+x)).dropna()"
   ]
  },
  {
   "cell_type": "code",
   "execution_count": 6,
   "id": "73924812",
   "metadata": {},
   "outputs": [
    {
     "data": {
      "text/plain": [
       "1       0.003111\n",
       "2       0.000545\n",
       "3       0.003993\n",
       "4       0.002878\n",
       "5       0.001745\n",
       "          ...   \n",
       "3027    0.009118\n",
       "3028    0.002814\n",
       "3029   -0.014346\n",
       "3030    0.000820\n",
       "3031   -0.018559\n",
       "Name: Close, Length: 3031, dtype: float64"
      ]
     },
     "execution_count": 6,
     "metadata": {},
     "output_type": "execute_result"
    }
   ],
   "source": [
    "market_data.columns = ['^GSPC']\n",
    "market_data"
   ]
  },
  {
   "cell_type": "code",
   "execution_count": 7,
   "id": "732405da",
   "metadata": {},
   "outputs": [],
   "source": [
    "dow_jones = Database('DJIA')\n",
    "ticker_symbols = dow_jones.get_ticker_symbols()\n",
    "stock_data = dow_jones.get_dataframe(date_range = date_range)"
   ]
  },
  {
   "cell_type": "code",
   "execution_count": 8,
   "id": "1832a6c7",
   "metadata": {},
   "outputs": [],
   "source": [
    "portfolio = Portfolio([Asset({\"name\": ticker, \"data\": stock_data[i] }) for i,ticker in enumerate(ticker_symbols[:4]) ])"
   ]
  },
  {
   "cell_type": "code",
   "execution_count": 9,
   "id": "7856728c",
   "metadata": {},
   "outputs": [
    {
     "data": {
      "text/html": [
       "<div>\n",
       "<style scoped>\n",
       "    .dataframe tbody tr th:only-of-type {\n",
       "        vertical-align: middle;\n",
       "    }\n",
       "\n",
       "    .dataframe tbody tr th {\n",
       "        vertical-align: top;\n",
       "    }\n",
       "\n",
       "    .dataframe thead th {\n",
       "        text-align: right;\n",
       "    }\n",
       "</style>\n",
       "<table border=\"1\" class=\"dataframe\">\n",
       "  <thead>\n",
       "    <tr style=\"text-align: right;\">\n",
       "      <th></th>\n",
       "      <th>Date</th>\n",
       "      <th>MMM</th>\n",
       "      <th>AXP</th>\n",
       "      <th>AMGN</th>\n",
       "      <th>AAPL</th>\n",
       "    </tr>\n",
       "  </thead>\n",
       "  <tbody>\n",
       "    <tr>\n",
       "      <th>1</th>\n",
       "      <td>2010-01-05</td>\n",
       "      <td>-0.006283</td>\n",
       "      <td>-0.002202</td>\n",
       "      <td>-0.008700</td>\n",
       "      <td>0.001727</td>\n",
       "    </tr>\n",
       "    <tr>\n",
       "      <th>2</th>\n",
       "      <td>2010-01-06</td>\n",
       "      <td>0.014082</td>\n",
       "      <td>0.016035</td>\n",
       "      <td>-0.007543</td>\n",
       "      <td>-0.016034</td>\n",
       "    </tr>\n",
       "    <tr>\n",
       "      <th>3</th>\n",
       "      <td>2010-01-07</td>\n",
       "      <td>0.000717</td>\n",
       "      <td>0.011741</td>\n",
       "      <td>-0.009199</td>\n",
       "      <td>-0.001850</td>\n",
       "    </tr>\n",
       "    <tr>\n",
       "      <th>4</th>\n",
       "      <td>2010-01-08</td>\n",
       "      <td>0.007022</td>\n",
       "      <td>-0.000715</td>\n",
       "      <td>0.008846</td>\n",
       "      <td>0.006626</td>\n",
       "    </tr>\n",
       "    <tr>\n",
       "      <th>5</th>\n",
       "      <td>2010-01-11</td>\n",
       "      <td>-0.004040</td>\n",
       "      <td>-0.011508</td>\n",
       "      <td>0.004394</td>\n",
       "      <td>-0.008861</td>\n",
       "    </tr>\n",
       "    <tr>\n",
       "      <th>...</th>\n",
       "      <td>...</td>\n",
       "      <td>...</td>\n",
       "      <td>...</td>\n",
       "      <td>...</td>\n",
       "      <td>...</td>\n",
       "    </tr>\n",
       "    <tr>\n",
       "      <th>3027</th>\n",
       "      <td>2022-01-11</td>\n",
       "      <td>0.008811</td>\n",
       "      <td>0.009395</td>\n",
       "      <td>0.008687</td>\n",
       "      <td>0.016644</td>\n",
       "    </tr>\n",
       "    <tr>\n",
       "      <th>3028</th>\n",
       "      <td>2022-01-12</td>\n",
       "      <td>0.002455</td>\n",
       "      <td>-0.005202</td>\n",
       "      <td>-0.002672</td>\n",
       "      <td>0.002567</td>\n",
       "    </tr>\n",
       "    <tr>\n",
       "      <th>3029</th>\n",
       "      <td>2022-01-13</td>\n",
       "      <td>0.008878</td>\n",
       "      <td>-0.006786</td>\n",
       "      <td>-0.003934</td>\n",
       "      <td>-0.019211</td>\n",
       "    </tr>\n",
       "    <tr>\n",
       "      <th>3030</th>\n",
       "      <td>2022-01-14</td>\n",
       "      <td>-0.012675</td>\n",
       "      <td>-0.028624</td>\n",
       "      <td>0.019348</td>\n",
       "      <td>0.005098</td>\n",
       "    </tr>\n",
       "    <tr>\n",
       "      <th>3031</th>\n",
       "      <td>2022-01-18</td>\n",
       "      <td>-0.007977</td>\n",
       "      <td>-0.011948</td>\n",
       "      <td>-0.010872</td>\n",
       "      <td>-0.018780</td>\n",
       "    </tr>\n",
       "  </tbody>\n",
       "</table>\n",
       "<p>3031 rows × 5 columns</p>\n",
       "</div>"
      ],
      "text/plain": [
       "            Date       MMM       AXP      AMGN      AAPL\n",
       "1     2010-01-05 -0.006283 -0.002202 -0.008700  0.001727\n",
       "2     2010-01-06  0.014082  0.016035 -0.007543 -0.016034\n",
       "3     2010-01-07  0.000717  0.011741 -0.009199 -0.001850\n",
       "4     2010-01-08  0.007022 -0.000715  0.008846  0.006626\n",
       "5     2010-01-11 -0.004040 -0.011508  0.004394 -0.008861\n",
       "...          ...       ...       ...       ...       ...\n",
       "3027  2022-01-11  0.008811  0.009395  0.008687  0.016644\n",
       "3028  2022-01-12  0.002455 -0.005202 -0.002672  0.002567\n",
       "3029  2022-01-13  0.008878 -0.006786 -0.003934 -0.019211\n",
       "3030  2022-01-14 -0.012675 -0.028624  0.019348  0.005098\n",
       "3031  2022-01-18 -0.007977 -0.011948 -0.010872 -0.018780\n",
       "\n",
       "[3031 rows x 5 columns]"
      ]
     },
     "execution_count": 9,
     "metadata": {},
     "output_type": "execute_result"
    }
   ],
   "source": [
    "portfolio.assets_daily_returns"
   ]
  },
  {
   "cell_type": "code",
   "execution_count": null,
   "id": "510bfff6",
   "metadata": {},
   "outputs": [],
   "source": []
  },
  {
   "cell_type": "markdown",
   "id": "77a6546f",
   "metadata": {},
   "source": [
    "# Regression Model"
   ]
  },
  {
   "cell_type": "code",
   "execution_count": 10,
   "id": "a66f71d9",
   "metadata": {},
   "outputs": [],
   "source": [
    "beta_assets = []\n",
    "for col in portfolio.assets_daily_returns.iloc[:,1:]:\n",
    "    covariance = portfolio.assets_daily_returns[col].cov(market_data)\n",
    "    variance_market = market_data.var()\n",
    "    beta_assets.append(covariance/variance_market)"
   ]
  },
  {
   "cell_type": "code",
   "execution_count": 11,
   "id": "1546b5bc",
   "metadata": {},
   "outputs": [
    {
     "data": {
      "text/plain": [
       "[0.898005980596087, 1.2212884130856736, 0.8513185089441065, 1.0789273594661897]"
      ]
     },
     "execution_count": 11,
     "metadata": {},
     "output_type": "execute_result"
    }
   ],
   "source": [
    "beta_assets"
   ]
  },
  {
   "cell_type": "code",
   "execution_count": 12,
   "id": "dd168a12",
   "metadata": {},
   "outputs": [
    {
     "data": {
      "text/plain": [
       "[0.8980059805960872, 1.2212884130856747, 0.8513185089441059, 1.07892735946619]"
      ]
     },
     "execution_count": 12,
     "metadata": {},
     "output_type": "execute_result"
    }
   ],
   "source": [
    "X = market_data\n",
    "\n",
    "stats_results = []\n",
    "for col in portfolio.assets_daily_returns.iloc[:,1:]:\n",
    "    \n",
    "    y = portfolio.assets_daily_returns.iloc[:,1:][col]\n",
    "    X_sm = sm.add_constant(X)\n",
    "    model = sm.OLS(y, X_sm)\n",
    "    results = model.fit()\n",
    "    stats_results.append(results)\n",
    "\n",
    "betas = [result.params['Close'] for result in stats_results]\n",
    "betas"
   ]
  },
  {
   "cell_type": "markdown",
   "id": "92f926d1",
   "metadata": {},
   "source": [
    "# Risk free rate"
   ]
  },
  {
   "cell_type": "code",
   "execution_count": 17,
   "id": "5e0ce152",
   "metadata": {},
   "outputs": [],
   "source": [
    "from datetime import datetime\n",
    "# 10 YEAR RATE FOR Treasury Constant Maturity Rate\n",
    "\n",
    "T_rate = pd.read_csv('../data/DGS10.csv')\n",
    "def get_treasury_rate(T_rate, asset_date_list):\n",
    "    count = 0\n",
    "    ten_yr_rate = []\n",
    "    for i in T_rate['DGS10']:\n",
    "        if i =='.':\n",
    "            da.append(T_rate['DATE'][count])\n",
    "            T_rate['DGS10'][count] = T_rate['DGS10'][count-1]        \n",
    "        else:\n",
    "            T_rate['DGS10'][count] = float(T_rate['DGS10'][count])\n",
    "\n",
    "        if T_rate['DATE'][count] in asset_date_list:\n",
    "            ten_yr_rate.append(T_rate['DGS10'][count])\n",
    "        count+=1\n",
    "        \n",
    "asset_date_list = portfolio.assets_daily_returns['Date'].tolist()"
   ]
  },
  {
   "cell_type": "code",
   "execution_count": 18,
   "id": "3c619ecf",
   "metadata": {},
   "outputs": [],
   "source": [
    "asset_frame[\"10_year_rate\"] = ten_yr_rate\n"
   ]
  },
  {
   "cell_type": "code",
   "execution_count": 19,
   "id": "f963ad54",
   "metadata": {},
   "outputs": [
    {
     "data": {
      "text/html": [
       "<div>\n",
       "<style scoped>\n",
       "    .dataframe tbody tr th:only-of-type {\n",
       "        vertical-align: middle;\n",
       "    }\n",
       "\n",
       "    .dataframe tbody tr th {\n",
       "        vertical-align: top;\n",
       "    }\n",
       "\n",
       "    .dataframe thead th {\n",
       "        text-align: right;\n",
       "    }\n",
       "</style>\n",
       "<table border=\"1\" class=\"dataframe\">\n",
       "  <thead>\n",
       "    <tr style=\"text-align: right;\">\n",
       "      <th></th>\n",
       "      <th>Date</th>\n",
       "      <th>MMM</th>\n",
       "      <th>AXP</th>\n",
       "      <th>AMGN</th>\n",
       "      <th>AAPL</th>\n",
       "      <th>10_year_rate</th>\n",
       "    </tr>\n",
       "  </thead>\n",
       "  <tbody>\n",
       "    <tr>\n",
       "      <th>1</th>\n",
       "      <td>2010-01-05</td>\n",
       "      <td>-0.006283</td>\n",
       "      <td>-0.002202</td>\n",
       "      <td>-0.008700</td>\n",
       "      <td>0.001727</td>\n",
       "      <td>3.77</td>\n",
       "    </tr>\n",
       "    <tr>\n",
       "      <th>2</th>\n",
       "      <td>2010-01-06</td>\n",
       "      <td>0.014082</td>\n",
       "      <td>0.016035</td>\n",
       "      <td>-0.007543</td>\n",
       "      <td>-0.016034</td>\n",
       "      <td>3.85</td>\n",
       "    </tr>\n",
       "    <tr>\n",
       "      <th>3</th>\n",
       "      <td>2010-01-07</td>\n",
       "      <td>0.000717</td>\n",
       "      <td>0.011741</td>\n",
       "      <td>-0.009199</td>\n",
       "      <td>-0.001850</td>\n",
       "      <td>3.85</td>\n",
       "    </tr>\n",
       "    <tr>\n",
       "      <th>4</th>\n",
       "      <td>2010-01-08</td>\n",
       "      <td>0.007022</td>\n",
       "      <td>-0.000715</td>\n",
       "      <td>0.008846</td>\n",
       "      <td>0.006626</td>\n",
       "      <td>3.83</td>\n",
       "    </tr>\n",
       "    <tr>\n",
       "      <th>5</th>\n",
       "      <td>2010-01-11</td>\n",
       "      <td>-0.004040</td>\n",
       "      <td>-0.011508</td>\n",
       "      <td>0.004394</td>\n",
       "      <td>-0.008861</td>\n",
       "      <td>3.85</td>\n",
       "    </tr>\n",
       "    <tr>\n",
       "      <th>...</th>\n",
       "      <td>...</td>\n",
       "      <td>...</td>\n",
       "      <td>...</td>\n",
       "      <td>...</td>\n",
       "      <td>...</td>\n",
       "      <td>...</td>\n",
       "    </tr>\n",
       "    <tr>\n",
       "      <th>3027</th>\n",
       "      <td>2022-01-11</td>\n",
       "      <td>0.008811</td>\n",
       "      <td>0.009395</td>\n",
       "      <td>0.008687</td>\n",
       "      <td>0.016644</td>\n",
       "      <td>1.75</td>\n",
       "    </tr>\n",
       "    <tr>\n",
       "      <th>3028</th>\n",
       "      <td>2022-01-12</td>\n",
       "      <td>0.002455</td>\n",
       "      <td>-0.005202</td>\n",
       "      <td>-0.002672</td>\n",
       "      <td>0.002567</td>\n",
       "      <td>1.74</td>\n",
       "    </tr>\n",
       "    <tr>\n",
       "      <th>3029</th>\n",
       "      <td>2022-01-13</td>\n",
       "      <td>0.008878</td>\n",
       "      <td>-0.006786</td>\n",
       "      <td>-0.003934</td>\n",
       "      <td>-0.019211</td>\n",
       "      <td>1.70</td>\n",
       "    </tr>\n",
       "    <tr>\n",
       "      <th>3030</th>\n",
       "      <td>2022-01-14</td>\n",
       "      <td>-0.012675</td>\n",
       "      <td>-0.028624</td>\n",
       "      <td>0.019348</td>\n",
       "      <td>0.005098</td>\n",
       "      <td>1.78</td>\n",
       "    </tr>\n",
       "    <tr>\n",
       "      <th>3031</th>\n",
       "      <td>2022-01-18</td>\n",
       "      <td>-0.007977</td>\n",
       "      <td>-0.011948</td>\n",
       "      <td>-0.010872</td>\n",
       "      <td>-0.018780</td>\n",
       "      <td>1.87</td>\n",
       "    </tr>\n",
       "  </tbody>\n",
       "</table>\n",
       "<p>3031 rows × 6 columns</p>\n",
       "</div>"
      ],
      "text/plain": [
       "            Date       MMM       AXP      AMGN      AAPL  10_year_rate\n",
       "1     2010-01-05 -0.006283 -0.002202 -0.008700  0.001727          3.77\n",
       "2     2010-01-06  0.014082  0.016035 -0.007543 -0.016034          3.85\n",
       "3     2010-01-07  0.000717  0.011741 -0.009199 -0.001850          3.85\n",
       "4     2010-01-08  0.007022 -0.000715  0.008846  0.006626          3.83\n",
       "5     2010-01-11 -0.004040 -0.011508  0.004394 -0.008861          3.85\n",
       "...          ...       ...       ...       ...       ...           ...\n",
       "3027  2022-01-11  0.008811  0.009395  0.008687  0.016644          1.75\n",
       "3028  2022-01-12  0.002455 -0.005202 -0.002672  0.002567          1.74\n",
       "3029  2022-01-13  0.008878 -0.006786 -0.003934 -0.019211          1.70\n",
       "3030  2022-01-14 -0.012675 -0.028624  0.019348  0.005098          1.78\n",
       "3031  2022-01-18 -0.007977 -0.011948 -0.010872 -0.018780          1.87\n",
       "\n",
       "[3031 rows x 6 columns]"
      ]
     },
     "execution_count": 19,
     "metadata": {},
     "output_type": "execute_result"
    }
   ],
   "source": [
    "asset_frame"
   ]
  },
  {
   "cell_type": "code",
   "execution_count": null,
   "id": "3607689e",
   "metadata": {},
   "outputs": [],
   "source": []
  }
 ],
 "metadata": {
  "kernelspec": {
   "display_name": "Python 3 (ipykernel)",
   "language": "python",
   "name": "python3"
  },
  "language_info": {
   "codemirror_mode": {
    "name": "ipython",
    "version": 3
   },
   "file_extension": ".py",
   "mimetype": "text/x-python",
   "name": "python",
   "nbconvert_exporter": "python",
   "pygments_lexer": "ipython3",
   "version": "3.8.5"
  }
 },
 "nbformat": 4,
 "nbformat_minor": 5
}
