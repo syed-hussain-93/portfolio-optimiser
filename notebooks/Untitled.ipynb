{
 "cells": [
  {
   "cell_type": "code",
   "execution_count": 1,
   "id": "c1230bb0",
   "metadata": {},
   "outputs": [
    {
     "name": "stdout",
     "output_type": "stream",
     "text": [
      "/Users/syed/Desktop/ideal-stock-portfolio/src\n"
     ]
    }
   ],
   "source": [
    "cd ../src/"
   ]
  },
  {
   "cell_type": "code",
   "execution_count": 55,
   "id": "ddec0209",
   "metadata": {},
   "outputs": [],
   "source": [
    "import sqlalchemy\n",
    "import pandas as pd\n",
    "import numpy as np\n",
    "import yfinance as yf\n",
    "from database_setup_class import Database\n",
    "from portfolio_class import Portfolio\n",
    "from assets_class import Asset"
   ]
  },
  {
   "cell_type": "code",
   "execution_count": 14,
   "id": "bbdd3816",
   "metadata": {},
   "outputs": [],
   "source": [
    "dow_jones = Database('DJIA')"
   ]
  },
  {
   "cell_type": "code",
   "execution_count": 56,
   "id": "57ef3758",
   "metadata": {},
   "outputs": [],
   "source": [
    "ticker_list = dow_jones.get_ticker_symbols()[:5]"
   ]
  },
  {
   "cell_type": "code",
   "execution_count": 57,
   "id": "92a2591c",
   "metadata": {},
   "outputs": [],
   "source": [
    "assets = []\n",
    "for ticker in ticker_list:\n",
    "    \n",
    "    \n",
    "    name = ticker\n",
    "    \n",
    "    sql = f\"SELECT * FROM {ticker}\"\n",
    "    data = pd.read_sql(sql,dow_jones.engine)\n",
    "    \n",
    "    asset = Asset({\"name\": name, \"data\": data})\n",
    "    assets.append(asset)"
   ]
  },
  {
   "cell_type": "code",
   "execution_count": 59,
   "id": "08d6eb84",
   "metadata": {},
   "outputs": [],
   "source": [
    "portf = Portfolio(assets)"
   ]
  },
  {
   "cell_type": "code",
   "execution_count": 60,
   "id": "e81074cd",
   "metadata": {},
   "outputs": [],
   "source": [
    "portf.optimise_with_risk_tolerance(0)"
   ]
  },
  {
   "cell_type": "code",
   "execution_count": 61,
   "id": "0343f438",
   "metadata": {},
   "outputs": [
    {
     "data": {
      "text/plain": [
       "array([0.45722548, 0.06774318, 0.30712957, 0.16790177, 0.        ])"
      ]
     },
     "execution_count": 61,
     "metadata": {},
     "output_type": "execute_result"
    }
   ],
   "source": [
    "portf.weights"
   ]
  },
  {
   "cell_type": "code",
   "execution_count": null,
   "id": "7914135b",
   "metadata": {},
   "outputs": [],
   "source": []
  }
 ],
 "metadata": {
  "kernelspec": {
   "display_name": "Python 3 (ipykernel)",
   "language": "python",
   "name": "python3"
  },
  "language_info": {
   "codemirror_mode": {
    "name": "ipython",
    "version": 3
   },
   "file_extension": ".py",
   "mimetype": "text/x-python",
   "name": "python",
   "nbconvert_exporter": "python",
   "pygments_lexer": "ipython3",
   "version": "3.8.5"
  }
 },
 "nbformat": 4,
 "nbformat_minor": 5
}
